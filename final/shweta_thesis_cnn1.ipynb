{
  "nbformat": 4,
  "nbformat_minor": 0,
  "metadata": {
    "colab": {
      "name": "shweta_thesis_cnn1.ipynb",
      "provenance": [],
      "collapsed_sections": []
    },
    "kernelspec": {
      "name": "python3",
      "display_name": "Python 3"
    },
    "accelerator": "GPU"
  },
  "cells": [
    {
      "cell_type": "code",
      "metadata": {
        "id": "esFQHHUNKbqb",
        "colab_type": "code",
        "colab": {}
      },
      "source": [
        "import numpy as np\n",
        "import pandas as pd\n",
        "from sklearn.preprocessing import StandardScaler\n",
        "from sklearn.model_selection import train_test_split\n",
        "import random, math, os, time"
      ],
      "execution_count": 0,
      "outputs": []
    },
    {
      "cell_type": "code",
      "metadata": {
        "id": "zdRJ672gKgOc",
        "colab_type": "code",
        "colab": {}
      },
      "source": [
        "SEED = 1234\n",
        "random.seed(SEED)"
      ],
      "execution_count": 0,
      "outputs": []
    },
    {
      "cell_type": "code",
      "metadata": {
        "id": "cT4xzZAYXv5y",
        "colab_type": "code",
        "colab": {}
      },
      "source": [
        "import matplotlib.pyplot as plt\n"
      ],
      "execution_count": 0,
      "outputs": []
    },
    {
      "cell_type": "code",
      "metadata": {
        "id": "nf-OIx9CKhjC",
        "colab_type": "code",
        "colab": {}
      },
      "source": [
        "filepath = 'https://raw.githubusercontent.com/rani700/SSIM/master/SSIM/data/simplified_PM25.csv'\n",
        "df = pd.read_csv(filepath, dayfirst=True)"
      ],
      "execution_count": 0,
      "outputs": []
    },
    {
      "cell_type": "code",
      "metadata": {
        "id": "OJqQV7NVLS3w",
        "colab_type": "code",
        "colab": {}
      },
      "source": [
        "train_sampling_params = {\n",
        "    'dim_in': 11,\n",
        "    'output_length': 5,\n",
        "    'min_before': 20,\n",
        "    'max_before': 25,\n",
        "    'min_after': 20,\n",
        "    'max_after': 25,\n",
        "}"
      ],
      "execution_count": 0,
      "outputs": []
    },
    {
      "cell_type": "code",
      "metadata": {
        "id": "_iEGE-UkMVsj",
        "colab_type": "code",
        "colab": {}
      },
      "source": [
        "test_sampling_params = {\n",
        "  'dim_in': 11,\n",
        "  'output_length': 5,\n",
        "  'min_before': 20,\n",
        "  'max_before': 25,\n",
        "  'min_after': 20,\n",
        "  'max_after': 25,\n",
        "}"
      ],
      "execution_count": 0,
      "outputs": []
    },
    {
      "cell_type": "code",
      "metadata": {
        "id": "gQb36AFFKj-q",
        "colab_type": "code",
        "outputId": "48c1ea68-3518-4f5c-9de8-55958b75f7ef",
        "colab": {
          "base_uri": "https://localhost:8080/",
          "height": 204
        }
      },
      "source": [
        "df.head()"
      ],
      "execution_count": 0,
      "outputs": [
        {
          "output_type": "execute_result",
          "data": {
            "text/html": [
              "<div>\n",
              "<style scoped>\n",
              "    .dataframe tbody tr th:only-of-type {\n",
              "        vertical-align: middle;\n",
              "    }\n",
              "\n",
              "    .dataframe tbody tr th {\n",
              "        vertical-align: top;\n",
              "    }\n",
              "\n",
              "    .dataframe thead th {\n",
              "        text-align: right;\n",
              "    }\n",
              "</style>\n",
              "<table border=\"1\" class=\"dataframe\">\n",
              "  <thead>\n",
              "    <tr style=\"text-align: right;\">\n",
              "      <th></th>\n",
              "      <th>date</th>\n",
              "      <th>pm2.5</th>\n",
              "      <th>DEWP</th>\n",
              "      <th>TEMP</th>\n",
              "      <th>PRES</th>\n",
              "      <th>Iws</th>\n",
              "      <th>Is</th>\n",
              "      <th>Ir</th>\n",
              "      <th>winddirect_0</th>\n",
              "      <th>winddirect_1</th>\n",
              "      <th>winddirect_2</th>\n",
              "      <th>winddirect_3</th>\n",
              "    </tr>\n",
              "  </thead>\n",
              "  <tbody>\n",
              "    <tr>\n",
              "      <th>0</th>\n",
              "      <td>2/01/2010 0:00</td>\n",
              "      <td>129</td>\n",
              "      <td>-16</td>\n",
              "      <td>-4.0</td>\n",
              "      <td>1020.0</td>\n",
              "      <td>1.79</td>\n",
              "      <td>0</td>\n",
              "      <td>0</td>\n",
              "      <td>0</td>\n",
              "      <td>0</td>\n",
              "      <td>1</td>\n",
              "      <td>0</td>\n",
              "    </tr>\n",
              "    <tr>\n",
              "      <th>1</th>\n",
              "      <td>2/01/2010 1:00</td>\n",
              "      <td>148</td>\n",
              "      <td>-15</td>\n",
              "      <td>-4.0</td>\n",
              "      <td>1020.0</td>\n",
              "      <td>2.68</td>\n",
              "      <td>0</td>\n",
              "      <td>0</td>\n",
              "      <td>0</td>\n",
              "      <td>0</td>\n",
              "      <td>1</td>\n",
              "      <td>0</td>\n",
              "    </tr>\n",
              "    <tr>\n",
              "      <th>2</th>\n",
              "      <td>2/01/2010 2:00</td>\n",
              "      <td>159</td>\n",
              "      <td>-11</td>\n",
              "      <td>-5.0</td>\n",
              "      <td>1021.0</td>\n",
              "      <td>3.57</td>\n",
              "      <td>0</td>\n",
              "      <td>0</td>\n",
              "      <td>0</td>\n",
              "      <td>0</td>\n",
              "      <td>1</td>\n",
              "      <td>0</td>\n",
              "    </tr>\n",
              "    <tr>\n",
              "      <th>3</th>\n",
              "      <td>2/01/2010 3:00</td>\n",
              "      <td>181</td>\n",
              "      <td>-7</td>\n",
              "      <td>-5.0</td>\n",
              "      <td>1022.0</td>\n",
              "      <td>5.36</td>\n",
              "      <td>1</td>\n",
              "      <td>0</td>\n",
              "      <td>0</td>\n",
              "      <td>0</td>\n",
              "      <td>1</td>\n",
              "      <td>0</td>\n",
              "    </tr>\n",
              "    <tr>\n",
              "      <th>4</th>\n",
              "      <td>2/01/2010 4:00</td>\n",
              "      <td>138</td>\n",
              "      <td>-7</td>\n",
              "      <td>-5.0</td>\n",
              "      <td>1022.0</td>\n",
              "      <td>6.25</td>\n",
              "      <td>2</td>\n",
              "      <td>0</td>\n",
              "      <td>0</td>\n",
              "      <td>0</td>\n",
              "      <td>1</td>\n",
              "      <td>0</td>\n",
              "    </tr>\n",
              "  </tbody>\n",
              "</table>\n",
              "</div>"
            ],
            "text/plain": [
              "             date  pm2.5  DEWP  ...  winddirect_1  winddirect_2  winddirect_3\n",
              "0  2/01/2010 0:00    129   -16  ...             0             1             0\n",
              "1  2/01/2010 1:00    148   -15  ...             0             1             0\n",
              "2  2/01/2010 2:00    159   -11  ...             0             1             0\n",
              "3  2/01/2010 3:00    181    -7  ...             0             1             0\n",
              "4  2/01/2010 4:00    138    -7  ...             0             1             0\n",
              "\n",
              "[5 rows x 12 columns]"
            ]
          },
          "metadata": {
            "tags": []
          },
          "execution_count": 10
        }
      ]
    },
    {
      "cell_type": "code",
      "metadata": {
        "id": "GCRV1BXYKnI6",
        "colab_type": "code",
        "colab": {}
      },
      "source": [
        "len(df[:5000])\n",
        "df = df[:5000]"
      ],
      "execution_count": 0,
      "outputs": []
    },
    {
      "cell_type": "code",
      "metadata": {
        "id": "FEZoD24g3OJo",
        "colab_type": "code",
        "outputId": "852bb5f0-fc83-4539-9f7c-c6bd89444893",
        "colab": {
          "base_uri": "https://localhost:8080/",
          "height": 34
        }
      },
      "source": [
        "df.iloc[0, 1]"
      ],
      "execution_count": 0,
      "outputs": [
        {
          "output_type": "execute_result",
          "data": {
            "text/plain": [
              "129"
            ]
          },
          "metadata": {
            "tags": []
          },
          "execution_count": 182
        }
      ]
    },
    {
      "cell_type": "code",
      "metadata": {
        "id": "Xa-Wu-jrKo2a",
        "colab_type": "code",
        "outputId": "2170f8ae-c4f1-43b0-d10b-224e0047bd4d",
        "colab": {
          "base_uri": "https://localhost:8080/",
          "height": 85
        }
      },
      "source": [
        "print(df.iloc[0, 0])\n",
        "print(df.iloc[4000, 0])\n",
        "print(df.iloc[4001, 0])\n",
        "print(df.iloc[4999, 0])\n",
        "\n",
        "\n",
        "df.set_index('date', inplace=True)"
      ],
      "execution_count": 0,
      "outputs": [
        {
          "output_type": "stream",
          "text": [
            "2/01/2010 0:00\n",
            "17/06/2010 16:00\n",
            "17/06/2010 17:00\n",
            "29/07/2010 7:00\n"
          ],
          "name": "stdout"
        }
      ]
    },
    {
      "cell_type": "code",
      "metadata": {
        "id": "0iDB97mVKqA6",
        "colab_type": "code",
        "outputId": "bf6594c4-9dce-48b1-cdc4-9bca47c9719a",
        "colab": {
          "base_uri": "https://localhost:8080/",
          "height": 235
        }
      },
      "source": [
        "df.head()"
      ],
      "execution_count": 0,
      "outputs": [
        {
          "output_type": "execute_result",
          "data": {
            "text/html": [
              "<div>\n",
              "<style scoped>\n",
              "    .dataframe tbody tr th:only-of-type {\n",
              "        vertical-align: middle;\n",
              "    }\n",
              "\n",
              "    .dataframe tbody tr th {\n",
              "        vertical-align: top;\n",
              "    }\n",
              "\n",
              "    .dataframe thead th {\n",
              "        text-align: right;\n",
              "    }\n",
              "</style>\n",
              "<table border=\"1\" class=\"dataframe\">\n",
              "  <thead>\n",
              "    <tr style=\"text-align: right;\">\n",
              "      <th></th>\n",
              "      <th>pm2.5</th>\n",
              "      <th>DEWP</th>\n",
              "      <th>TEMP</th>\n",
              "      <th>PRES</th>\n",
              "      <th>Iws</th>\n",
              "      <th>Is</th>\n",
              "      <th>Ir</th>\n",
              "      <th>winddirect_0</th>\n",
              "      <th>winddirect_1</th>\n",
              "      <th>winddirect_2</th>\n",
              "      <th>winddirect_3</th>\n",
              "    </tr>\n",
              "    <tr>\n",
              "      <th>date</th>\n",
              "      <th></th>\n",
              "      <th></th>\n",
              "      <th></th>\n",
              "      <th></th>\n",
              "      <th></th>\n",
              "      <th></th>\n",
              "      <th></th>\n",
              "      <th></th>\n",
              "      <th></th>\n",
              "      <th></th>\n",
              "      <th></th>\n",
              "    </tr>\n",
              "  </thead>\n",
              "  <tbody>\n",
              "    <tr>\n",
              "      <th>2/01/2010 0:00</th>\n",
              "      <td>129</td>\n",
              "      <td>-16</td>\n",
              "      <td>-4.0</td>\n",
              "      <td>1020.0</td>\n",
              "      <td>1.79</td>\n",
              "      <td>0</td>\n",
              "      <td>0</td>\n",
              "      <td>0</td>\n",
              "      <td>0</td>\n",
              "      <td>1</td>\n",
              "      <td>0</td>\n",
              "    </tr>\n",
              "    <tr>\n",
              "      <th>2/01/2010 1:00</th>\n",
              "      <td>148</td>\n",
              "      <td>-15</td>\n",
              "      <td>-4.0</td>\n",
              "      <td>1020.0</td>\n",
              "      <td>2.68</td>\n",
              "      <td>0</td>\n",
              "      <td>0</td>\n",
              "      <td>0</td>\n",
              "      <td>0</td>\n",
              "      <td>1</td>\n",
              "      <td>0</td>\n",
              "    </tr>\n",
              "    <tr>\n",
              "      <th>2/01/2010 2:00</th>\n",
              "      <td>159</td>\n",
              "      <td>-11</td>\n",
              "      <td>-5.0</td>\n",
              "      <td>1021.0</td>\n",
              "      <td>3.57</td>\n",
              "      <td>0</td>\n",
              "      <td>0</td>\n",
              "      <td>0</td>\n",
              "      <td>0</td>\n",
              "      <td>1</td>\n",
              "      <td>0</td>\n",
              "    </tr>\n",
              "    <tr>\n",
              "      <th>2/01/2010 3:00</th>\n",
              "      <td>181</td>\n",
              "      <td>-7</td>\n",
              "      <td>-5.0</td>\n",
              "      <td>1022.0</td>\n",
              "      <td>5.36</td>\n",
              "      <td>1</td>\n",
              "      <td>0</td>\n",
              "      <td>0</td>\n",
              "      <td>0</td>\n",
              "      <td>1</td>\n",
              "      <td>0</td>\n",
              "    </tr>\n",
              "    <tr>\n",
              "      <th>2/01/2010 4:00</th>\n",
              "      <td>138</td>\n",
              "      <td>-7</td>\n",
              "      <td>-5.0</td>\n",
              "      <td>1022.0</td>\n",
              "      <td>6.25</td>\n",
              "      <td>2</td>\n",
              "      <td>0</td>\n",
              "      <td>0</td>\n",
              "      <td>0</td>\n",
              "      <td>1</td>\n",
              "      <td>0</td>\n",
              "    </tr>\n",
              "  </tbody>\n",
              "</table>\n",
              "</div>"
            ],
            "text/plain": [
              "                pm2.5  DEWP  TEMP  ...  winddirect_1  winddirect_2  winddirect_3\n",
              "date                               ...                                          \n",
              "2/01/2010 0:00    129   -16  -4.0  ...             0             1             0\n",
              "2/01/2010 1:00    148   -15  -4.0  ...             0             1             0\n",
              "2/01/2010 2:00    159   -11  -5.0  ...             0             1             0\n",
              "2/01/2010 3:00    181    -7  -5.0  ...             0             1             0\n",
              "2/01/2010 4:00    138    -7  -5.0  ...             0             1             0\n",
              "\n",
              "[5 rows x 11 columns]"
            ]
          },
          "metadata": {
            "tags": []
          },
          "execution_count": 13
        }
      ]
    },
    {
      "cell_type": "code",
      "metadata": {
        "id": "IqtM_6wwKrih",
        "colab_type": "code",
        "colab": {}
      },
      "source": [
        "pm25 = df['pm2.5'].values.copy().reshape(-1, 1)"
      ],
      "execution_count": 0,
      "outputs": []
    },
    {
      "cell_type": "code",
      "metadata": {
        "id": "nw8nedAGKtV4",
        "colab_type": "code",
        "outputId": "cf7d82f5-e748-4e7b-9763-5ea1f33a85eb",
        "colab": {
          "base_uri": "https://localhost:8080/",
          "height": 34
        }
      },
      "source": [
        "scaler_x = StandardScaler()\n",
        "scaler_x.fit(df[['pm2.5', 'DEWP', 'TEMP', 'PRES', 'Iws', 'Is', 'Ir']])"
      ],
      "execution_count": 0,
      "outputs": [
        {
          "output_type": "execute_result",
          "data": {
            "text/plain": [
              "StandardScaler(copy=True, with_mean=True, with_std=True)"
            ]
          },
          "metadata": {
            "tags": []
          },
          "execution_count": 15
        }
      ]
    },
    {
      "cell_type": "code",
      "metadata": {
        "id": "Sg3EabLGKvNQ",
        "colab_type": "code",
        "colab": {}
      },
      "source": [
        "df[['pm2.5', 'DEWP', 'TEMP', 'PRES', 'Iws', 'Is', 'Ir']] = scaler_x.transform(df[['pm2.5', 'DEWP', 'TEMP', 'PRES', 'Iws', 'Is', 'Ir']])"
      ],
      "execution_count": 0,
      "outputs": []
    },
    {
      "cell_type": "code",
      "metadata": {
        "id": "wsCFEBY6KxUX",
        "colab_type": "code",
        "colab": {}
      },
      "source": [
        "scaler_y = StandardScaler()\n",
        "scaler_y.fit(pm25)\n",
        "y_all = scaler_y.transform(pm25)"
      ],
      "execution_count": 0,
      "outputs": []
    },
    {
      "cell_type": "code",
      "metadata": {
        "id": "aiHuv1SMK0EP",
        "colab_type": "code",
        "colab": {}
      },
      "source": [
        "df_train = df.loc['2/01/2010 0:00': '17/06/2010 16:00'].copy()\n",
        "df_test = df.loc['17/06/2010 17:00': '29/07/2010 7:00'].copy()"
      ],
      "execution_count": 0,
      "outputs": []
    },
    {
      "cell_type": "code",
      "metadata": {
        "id": "g-Aje_VNK2op",
        "colab_type": "code",
        "colab": {}
      },
      "source": [
        "y = y_all"
      ],
      "execution_count": 0,
      "outputs": []
    },
    {
      "cell_type": "code",
      "metadata": {
        "id": "SE2nqexWK4Q3",
        "colab_type": "code",
        "colab": {}
      },
      "source": [
        "def train_val_test_generate(dataframe, model_params):\n",
        "    '''\n",
        "    :param dataframe: processed dataframe\n",
        "    :param model_params: for input dim\n",
        "    :return: train_x, train_y, test_x, test_y with the same length (by padding zero)\n",
        "    '''\n",
        "\n",
        "    train_val_test_x, train_val_test_y, len_x_samples, len_before_x_samples = pad_all_cases(dataframe,\n",
        "                                                                                            dataframe['pm2.5'].values,\n",
        "                                                                                            model_params,\n",
        "                                                                                            model_params['min_before'],\n",
        "                                                                                            model_params['max_before'],\n",
        "                                                                                            model_params['min_after'],\n",
        "                                                                                            model_params['max_after'],\n",
        "                                                                                            model_params[\n",
        "                                                                                                'output_length'])\n",
        "\n",
        "    train_val_test_y = np.expand_dims(train_val_test_y, axis=2)\n",
        "\n",
        "    return train_val_test_x, train_val_test_y, len_x_samples, len_before_x_samples"
      ],
      "execution_count": 0,
      "outputs": []
    },
    {
      "cell_type": "code",
      "metadata": {
        "id": "nMrsAqS2K6V_",
        "colab_type": "code",
        "colab": {}
      },
      "source": [
        "\n",
        "def generate_samples(x, y, model_params, seq_len_before=7, seq_len_after=7, output_seq_len=9):\n",
        "    \"\"\"\n",
        "    Generate samples, input past and future, target middle\n",
        "    :param x: input dataframe\n",
        "    :param y: target variable to impute\n",
        "    :param seq_len_before:\n",
        "    :param seq_len_after:\n",
        "    :param output_seq_len:\n",
        "    :return: (inputsequence, targetsequence)\n",
        "    \"\"\"\n",
        "    total_samples = x.shape[0]\n",
        "    total_len = seq_len_before + seq_len_after + output_seq_len\n",
        "\n",
        "    input_batch_idxs = [list(range(i, i + seq_len_before)) + list(\n",
        "        range(i + seq_len_before + output_seq_len, i + seq_len_before + output_seq_len + seq_len_after)) for i in\n",
        "                        range((total_samples - total_len + 1))]\n",
        "\n",
        "    input_seq = np.take(x, input_batch_idxs, axis=0)\n",
        "\n",
        "    z = np.zeros((output_seq_len, model_params['dim_in']))\n",
        "\n",
        "    input_seq = np.array([np.concatenate((i[:seq_len_before], z, i[seq_len_before:])) for i in input_seq])\n",
        "\n",
        "    output_batch_idxs = [list(range(i + seq_len_before, i + seq_len_before + output_seq_len)) for i in\n",
        "                         range((total_samples - total_len + 1))]\n",
        "\n",
        "    output_seq = np.take(y, output_batch_idxs, axis=0)\n",
        "\n",
        "    return input_seq, output_seq\n",
        "\n",
        "\n",
        "def pad_all_cases(x, y, model_params, min_len_before=7, max_len_before=9, min_len_after=7, max_len_after=9,\n",
        "                  targetlength=9):\n",
        "    \"\"\"\n",
        "    variable length inputs, fix length outputs\n",
        "    :param x: input dataframe\n",
        "    :param y: target variable to impute\n",
        "    :param min_len_before:\n",
        "    :param max_len_before:\n",
        "    :param min_len_after:\n",
        "    :param max_len_after:\n",
        "    :param targetlength:\n",
        "    :return: inputsequence with same length, outputsequence with same length\n",
        "    \"\"\"\n",
        "    total_x = []\n",
        "    total_y = []\n",
        "    total_len_x = []\n",
        "    totle_len_before_x = []\n",
        "\n",
        "    for l_before in range(min_len_before, max_len_before + 1):\n",
        "        for l_after in range(min_len_after, max_len_after + 1):\n",
        "            case_x, case_y = generate_samples(x.values, y, model_params, l_before, l_after, targetlength)\n",
        "            # npad is a tuple of (n_before, n_after) for each dimension\n",
        "\n",
        "            len_x = np.full(case_x.shape[0], case_x.shape[1])\n",
        "            len_before_sequence_x = np.full(case_x.shape[0], l_before)\n",
        "\n",
        "            npad = ((0, 0), (0, max_len_before - l_before + max_len_after - l_after), (0, 0))\n",
        "\n",
        "            same_length_x = np.pad(case_x, pad_width=npad, mode='constant', constant_values=0)\n",
        "\n",
        "            total_x.append(same_length_x)\n",
        "            total_y.append(case_y)\n",
        "            total_len_x.append(len_x)\n",
        "            totle_len_before_x.append(len_before_sequence_x)\n",
        "\n",
        "    ## total x,y\n",
        "    concatenated_x = np.concatenate(total_x, axis=0)\n",
        "    concatenated_y = np.concatenate(total_y, axis=0)\n",
        "    len_all_case = np.concatenate(total_len_x).ravel()\n",
        "    len_before_all_case = np.concatenate(totle_len_before_x).ravel()\n",
        "\n",
        "    return concatenated_x, concatenated_y, len_all_case, len_before_all_case"
      ],
      "execution_count": 0,
      "outputs": []
    },
    {
      "cell_type": "code",
      "metadata": {
        "id": "zRUwUr7TK8Pm",
        "colab_type": "code",
        "colab": {}
      },
      "source": [
        "# x_samples, y_samples, x_len, x_before_len = train_val_test_generate(df_train, train_sampling_params)\n",
        "# def train_val_test_generate(dataframe, model_params):\n",
        "\n",
        "dataframe = df_train\n",
        "dataframe1 = df_test\n",
        "model_params = train_sampling_params\n",
        "\n"
      ],
      "execution_count": 0,
      "outputs": []
    },
    {
      "cell_type": "code",
      "metadata": {
        "id": "AG-U3p3HMAY4",
        "colab_type": "code",
        "colab": {}
      },
      "source": [
        "x = dataframe\n",
        "x1 = dataframe1\n",
        "y = dataframe['pm2.5'].values\n",
        "y1 = dataframe1['pm2.5'].values\n",
        "# model_params = model_params\n",
        "min_len_before = model_params['min_before']\n",
        "max_len_before = model_params['max_before']\n",
        "min_len_after = model_params['min_after'] \n",
        "max_len_after = model_params['max_after']\n",
        "targetlength = model_params['output_length']"
      ],
      "execution_count": 0,
      "outputs": []
    },
    {
      "cell_type": "code",
      "metadata": {
        "id": "3o6hAfNUMEHG",
        "colab_type": "code",
        "colab": {}
      },
      "source": [
        "total_x = []\n",
        "total_y = []\n",
        "total_len_x = []\n",
        "total_len_before_x = []"
      ],
      "execution_count": 0,
      "outputs": []
    },
    {
      "cell_type": "code",
      "metadata": {
        "id": "xOl--2TIMHE6",
        "colab_type": "code",
        "colab": {}
      },
      "source": [
        "def generate_samples(x, y, model_params, seq_len_before=7, seq_len_after=7, output_seq_len=9):\n",
        "    \"\"\"\n",
        "    Generate samples, input past and future, target middle\n",
        "    :param x: input dataframe\n",
        "    :param y: target variable to impute\n",
        "    :param seq_len_before:\n",
        "    :param seq_len_after:\n",
        "    :param output_seq_len:\n",
        "    :return: (inputsequence, targetsequence)\n",
        "    \"\"\"\n",
        "    total_samples = x.shape[0]\n",
        "    total_len = seq_len_before + seq_len_after + output_seq_len\n",
        "\n",
        "    input_batch_idxs = [list(range(i, i + seq_len_before)) + list(\n",
        "        range(i + seq_len_before + output_seq_len, i + seq_len_before + output_seq_len + seq_len_after)) for i in\n",
        "                        range((total_samples - total_len + 1))]\n",
        "\n",
        "    input_seq = np.take(x, input_batch_idxs, axis=0)\n",
        "\n",
        "    z = np.zeros((output_seq_len, model_params['dim_in']))\n",
        "\n",
        "    input_seq = np.array([np.concatenate((i[:seq_len_before], z, i[seq_len_before:])) for i in input_seq])\n",
        "\n",
        "    output_batch_idxs = [list(range(i + seq_len_before, i + seq_len_before + output_seq_len)) for i in\n",
        "                         range((total_samples - total_len + 1))]\n",
        "\n",
        "    output_seq = np.take(y, output_batch_idxs, axis=0)\n",
        "\n",
        "    return input_seq, output_seq"
      ],
      "execution_count": 0,
      "outputs": []
    },
    {
      "cell_type": "code",
      "metadata": {
        "id": "PsUmTa7VLs4a",
        "colab_type": "code",
        "colab": {}
      },
      "source": [
        ""
      ],
      "execution_count": 0,
      "outputs": []
    },
    {
      "cell_type": "code",
      "metadata": {
        "id": "4vkM1dp0Levx",
        "colab_type": "code",
        "colab": {}
      },
      "source": [
        "def train_test_split_SSIM(x, y, x_len, x_before_len, model_params, SEED):\n",
        "    '''\n",
        "    :param x: all x samples\n",
        "    :param y: all y samples\n",
        "    :param model_params: parameters\n",
        "    :param SEED: random SEED\n",
        "    :return: train set, test set\n",
        "    '''\n",
        "\n",
        "    ## check and remove samples with NaN (just incase)\n",
        "    index_list = []\n",
        "    for index, (x_s, y_s, len_s, len_before_s) in enumerate(zip(x, y, x_len, x_before_len)):\n",
        "        if (np.isnan(x_s).any()) or (np.isnan(y_s).any()):\n",
        "            index_list.append(index)\n",
        "\n",
        "    x = np.delete(x, index_list, axis=0)\n",
        "    y = np.delete(y, index_list, axis=0)\n",
        "    x_len = np.delete(x_len, index_list, axis=0)\n",
        "    x_before_len = np.delete(x_before_len, index_list, axis=0)\n",
        "\n",
        "    x_train, x_test, y_train, y_test = train_test_split(x, y, test_size=None,\n",
        "                                                        random_state=SEED,\n",
        "                                                        shuffle=False)\n",
        "\n",
        "    x_train_len, x_test_len = train_test_split(x_len, test_size=None, random_state=SEED, shuffle=False)\n",
        "\n",
        "    x_train_before_len, x_test_before_len = train_test_split(x_before_len, test_size=None, random_state=SEED,\n",
        "                                                             shuffle=False)\n",
        "\n",
        "    return x_train, y_train, x_train_len, x_train_before_len"
      ],
      "execution_count": 0,
      "outputs": []
    },
    {
      "cell_type": "code",
      "metadata": {
        "id": "7YDds1CoK-XW",
        "colab_type": "code",
        "colab": {}
      },
      "source": [
        ""
      ],
      "execution_count": 0,
      "outputs": []
    },
    {
      "cell_type": "code",
      "metadata": {
        "id": "IxUwqdpgMLez",
        "colab_type": "code",
        "colab": {}
      },
      "source": [
        "for l_before in range(min_len_before, max_len_before+1):\n",
        "  for l_after in range(min_len_after, max_len_after+1):\n",
        "    case_x, case_y = generate_samples(x.values, y, model_params, l_before, l_after, targetlength)\n",
        "    \n",
        "    len_x = np.full(case_x.shape[0], case_x.shape[1])\n",
        "    len_before_sequence_x = np.full(case_x.shape[0], l_before)\n",
        "\n",
        "    npad = ((0, 0), (0, max_len_before - l_before + max_len_after - l_after), (0, 0))\n",
        "\n",
        "    same_length_x = np.pad(case_x, pad_width=npad, mode='constant', constant_values=0)\n",
        "\n",
        "    total_x.append(same_length_x)\n",
        "\n",
        "    total_y.append(case_y)\n",
        "\n",
        "    total_len_x.append(len_x)\n",
        "\n",
        "    total_len_before_x.append(len_before_sequence_x)\n",
        "\n",
        "concatenated_x = np.concatenate(total_x, axis=0)\n",
        "concatenated_y = np.concatenate(total_y, axis=0)\n",
        "len_all_case = np.concatenate(total_len_x).ravel()\n",
        "len_before_all_case = np.concatenate(total_len_before_x).ravel()\n",
        "\n",
        "\n",
        "\n",
        "\n",
        "\n",
        "\n",
        "\n",
        "# ###############\n",
        "\n",
        "train_val_test_x = concatenated_x\n",
        "train_val_test_y = concatenated_y\n",
        "len_x_samples = len_all_case\n",
        "len_before_x_samples = len_before_all_case\n",
        "\n",
        "\n",
        "\n",
        "    "
      ],
      "execution_count": 0,
      "outputs": []
    },
    {
      "cell_type": "code",
      "metadata": {
        "id": "118a-68IwQSY",
        "colab_type": "code",
        "colab": {}
      },
      "source": [
        "x_samples, y_samples, x_len, x_before_len = train_val_test_x, train_val_test_y, len_x_samples, len_before_x_samples\n",
        "\n",
        "x_test, y_test, x_test_len, x_test_before_len = train_test_split_SSIM(x_samples, y_samples, x_len, x_before_len,\n",
        "                                                                          test_sampling_params, SEED)"
      ],
      "execution_count": 0,
      "outputs": []
    },
    {
      "cell_type": "code",
      "metadata": {
        "id": "iyHn9zNWMwFQ",
        "colab_type": "code",
        "outputId": "ea3e3110-4b01-4322-ff0d-006e1b2df83f",
        "colab": {
          "base_uri": "https://localhost:8080/",
          "height": 51
        }
      },
      "source": [
        "print('X_samples:{}'.format(x_samples.shape))\n",
        "print('y_samples:{}'.format(y_samples.shape))"
      ],
      "execution_count": 0,
      "outputs": [
        {
          "output_type": "stream",
          "text": [
            "X_samples:(142272, 55, 11)\n",
            "y_samples:(142272, 5)\n"
          ],
          "name": "stdout"
        }
      ]
    },
    {
      "cell_type": "code",
      "metadata": {
        "id": "z1IKka41LXX0",
        "colab_type": "code",
        "colab": {}
      },
      "source": [
        "X = x_samples\n",
        "y = y_samples"
      ],
      "execution_count": 0,
      "outputs": []
    },
    {
      "cell_type": "code",
      "metadata": {
        "id": "Nkiw9giDlEcN",
        "colab_type": "code",
        "outputId": "5a23ac07-293e-472f-8d1f-1dced262427e",
        "colab": {
          "base_uri": "https://localhost:8080/",
          "height": 34
        }
      },
      "source": [
        "X.shape"
      ],
      "execution_count": 0,
      "outputs": [
        {
          "output_type": "execute_result",
          "data": {
            "text/plain": [
              "(142272, 55, 11)"
            ]
          },
          "metadata": {
            "tags": []
          },
          "execution_count": 105
        }
      ]
    },
    {
      "cell_type": "code",
      "metadata": {
        "id": "aot0ZvLInG4P",
        "colab_type": "code",
        "colab": {}
      },
      "source": [
        "X = X.reshape((X.shape[0], X.shape[1], X.shape[2], 1))"
      ],
      "execution_count": 0,
      "outputs": []
    },
    {
      "cell_type": "code",
      "metadata": {
        "id": "dxykLW_inSVG",
        "colab_type": "code",
        "colab": {}
      },
      "source": [
        ""
      ],
      "execution_count": 0,
      "outputs": []
    },
    {
      "cell_type": "code",
      "metadata": {
        "id": "BonfMV6DlJZX",
        "colab_type": "code",
        "outputId": "f35b2e2a-a4ae-4a3f-874b-59b062f93d29",
        "colab": {
          "base_uri": "https://localhost:8080/",
          "height": 34
        }
      },
      "source": [
        "X[0].shape"
      ],
      "execution_count": 0,
      "outputs": [
        {
          "output_type": "execute_result",
          "data": {
            "text/plain": [
              "(55, 11, 1)"
            ]
          },
          "metadata": {
            "tags": []
          },
          "execution_count": 107
        }
      ]
    },
    {
      "cell_type": "code",
      "metadata": {
        "id": "yy0E6CKkN63v",
        "colab_type": "code",
        "outputId": "ac6e3dc2-d61a-4c7f-8c21-4b9026c2d97d",
        "colab": {
          "base_uri": "https://localhost:8080/",
          "height": 34
        }
      },
      "source": [
        "y.shape"
      ],
      "execution_count": 0,
      "outputs": [
        {
          "output_type": "execute_result",
          "data": {
            "text/plain": [
              "(142272, 5)"
            ]
          },
          "metadata": {
            "tags": []
          },
          "execution_count": 108
        }
      ]
    },
    {
      "cell_type": "code",
      "metadata": {
        "id": "PrIP3xmBM_ob",
        "colab_type": "code",
        "colab": {}
      },
      "source": [
        "from keras.models import Sequential\n",
        "from keras.layers import Dense, Flatten\n",
        "from keras.layers.convolutional import Conv1D, Conv2D, MaxPooling1D, MaxPooling2D"
      ],
      "execution_count": 0,
      "outputs": []
    },
    {
      "cell_type": "code",
      "metadata": {
        "id": "Ac1e9TDHYNs4",
        "colab_type": "code",
        "colab": {}
      },
      "source": [
        "from keras import losses  "
      ],
      "execution_count": 0,
      "outputs": []
    },
    {
      "cell_type": "code",
      "metadata": {
        "id": "80SDJqv1NKn9",
        "colab_type": "code",
        "colab": {}
      },
      "source": [
        "model = Sequential()\n",
        "model.add(Conv2D(filters=64, kernel_size=3, activation='relu', input_shape=(55,11,1)))\n",
        "model.add(Conv2D(filters=32, kernel_size=3, activation='relu'))\n",
        "model.add(Flatten())\n",
        "model.add(Dense(50, activation='relu'))\n",
        "model.add(Dense(5))\n",
        "model.compile(optimizer='adam', loss='mse', metrics=['accuracy'])"
      ],
      "execution_count": 0,
      "outputs": []
    },
    {
      "cell_type": "code",
      "metadata": {
        "id": "eepaWdR5xvn4",
        "colab_type": "code",
        "colab": {}
      },
      "source": [
        "import tensorflow as tf\n"
      ],
      "execution_count": 0,
      "outputs": []
    },
    {
      "cell_type": "code",
      "metadata": {
        "id": "QWOb03AsNbI9",
        "colab_type": "code",
        "outputId": "1a8f4710-c306-46ec-b13b-bd5385b8032a",
        "colab": {
          "base_uri": "https://localhost:8080/",
          "height": 714
        }
      },
      "source": [
        "model.fit(X, y, epochs=20, verbose=1)"
      ],
      "execution_count": 0,
      "outputs": [
        {
          "output_type": "stream",
          "text": [
            "Epoch 1/20\n",
            "142272/142272 [==============================] - 44s 310us/step - loss: 0.1714 - acc: 0.3890\n",
            "Epoch 2/20\n",
            "142272/142272 [==============================] - 44s 308us/step - loss: 0.0804 - acc: 0.4405\n",
            "Epoch 3/20\n",
            "142272/142272 [==============================] - 44s 309us/step - loss: 0.0614 - acc: 0.4588\n",
            "Epoch 4/20\n",
            "142272/142272 [==============================] - 44s 308us/step - loss: 0.0511 - acc: 0.4688\n",
            "Epoch 5/20\n",
            "142272/142272 [==============================] - 44s 307us/step - loss: 0.0448 - acc: 0.4784\n",
            "Epoch 6/20\n",
            "142272/142272 [==============================] - 44s 307us/step - loss: 0.0402 - acc: 0.4838\n",
            "Epoch 7/20\n",
            "142272/142272 [==============================] - 44s 309us/step - loss: 0.0361 - acc: 0.4909\n",
            "Epoch 8/20\n",
            "142272/142272 [==============================] - 44s 306us/step - loss: 0.0340 - acc: 0.4936\n",
            "Epoch 9/20\n",
            "142272/142272 [==============================] - 44s 307us/step - loss: 0.0321 - acc: 0.4964\n",
            "Epoch 10/20\n",
            "142272/142272 [==============================] - 44s 307us/step - loss: 0.0300 - acc: 0.5004\n",
            "Epoch 11/20\n",
            "142272/142272 [==============================] - 43s 305us/step - loss: 0.0290 - acc: 0.5043\n",
            "Epoch 12/20\n",
            "142272/142272 [==============================] - 43s 305us/step - loss: 0.0276 - acc: 0.5060\n",
            "Epoch 13/20\n",
            "142272/142272 [==============================] - 44s 307us/step - loss: 0.0263 - acc: 0.5112\n",
            "Epoch 14/20\n",
            "142272/142272 [==============================] - 44s 308us/step - loss: 0.0255 - acc: 0.5130\n",
            "Epoch 15/20\n",
            "142272/142272 [==============================] - 44s 306us/step - loss: 0.0247 - acc: 0.5137\n",
            "Epoch 16/20\n",
            "142272/142272 [==============================] - 43s 305us/step - loss: 0.0239 - acc: 0.5163\n",
            "Epoch 17/20\n",
            "142272/142272 [==============================] - 44s 307us/step - loss: 0.0232 - acc: 0.5193\n",
            "Epoch 18/20\n",
            "142272/142272 [==============================] - 44s 307us/step - loss: 0.0227 - acc: 0.5204\n",
            "Epoch 19/20\n",
            "142272/142272 [==============================] - 44s 306us/step - loss: 0.0224 - acc: 0.5224\n",
            "Epoch 20/20\n",
            "142272/142272 [==============================] - 43s 305us/step - loss: 0.0215 - acc: 0.5245\n"
          ],
          "name": "stdout"
        },
        {
          "output_type": "execute_result",
          "data": {
            "text/plain": [
              "<keras.callbacks.History at 0x7efe1ed656a0>"
            ]
          },
          "metadata": {
            "tags": []
          },
          "execution_count": 159
        }
      ]
    },
    {
      "cell_type": "code",
      "metadata": {
        "id": "_wsVpvbZO-Rj",
        "colab_type": "code",
        "colab": {}
      },
      "source": [
        "lstm1 = model.history.history['loss']"
      ],
      "execution_count": 0,
      "outputs": []
    },
    {
      "cell_type": "code",
      "metadata": {
        "id": "L9aWg6ftDjFQ",
        "colab_type": "code",
        "outputId": "b2da23eb-228a-4630-c774-f6a8257a177a",
        "colab": {
          "base_uri": "https://localhost:8080/",
          "height": 357
        }
      },
      "source": [
        "lstm1"
      ],
      "execution_count": 0,
      "outputs": [
        {
          "output_type": "execute_result",
          "data": {
            "text/plain": [
              "[0.17144767907324523,\n",
              " 0.08036774964822985,\n",
              " 0.06141701685763255,\n",
              " 0.05107995013137035,\n",
              " 0.04475054958122194,\n",
              " 0.04017020735091157,\n",
              " 0.03610349375900389,\n",
              " 0.034009436588672386,\n",
              " 0.03207964312286861,\n",
              " 0.02995740823586795,\n",
              " 0.028953466599084876,\n",
              " 0.027643173793100367,\n",
              " 0.02629490529999365,\n",
              " 0.025494493291789964,\n",
              " 0.02474512558506263,\n",
              " 0.023938511989908515,\n",
              " 0.023209571094012112,\n",
              " 0.022747187282399075,\n",
              " 0.022355464473010633,\n",
              " 0.021543588619587044]"
            ]
          },
          "metadata": {
            "tags": []
          },
          "execution_count": 183
        }
      ]
    },
    {
      "cell_type": "code",
      "metadata": {
        "id": "HNDKjWifXeuD",
        "colab_type": "code",
        "outputId": "4fbdc8ba-0724-4c5c-8607-518ba19c905a",
        "colab": {
          "base_uri": "https://localhost:8080/",
          "height": 265
        }
      },
      "source": [
        "plt.figure(figsize=(8,4))\n",
        "plt.xticks(np.arange(0,25,1))\n",
        "plt.plot(range(len(lstm1)),lstm1);"
      ],
      "execution_count": 0,
      "outputs": [
        {
          "output_type": "display_data",
          "data": {
            "image/png": "[encoded data removed]",
            "text/plain": [
              "<Figure size 576x288 with 1 Axes>"
            ]
          },
          "metadata": {
            "tags": []
          }
        }
      ]
    },
    {
      "cell_type": "code",
      "metadata": {
        "id": "JhIa-AuUXsId",
        "colab_type": "code",
        "colab": {}
      },
      "source": [
        " y_hat = model.predict(X)"
      ],
      "execution_count": 0,
      "outputs": []
    },
    {
      "cell_type": "code",
      "metadata": {
        "id": "qPuGdSOYcG2R",
        "colab_type": "code",
        "outputId": "b8e1c52d-8859-412c-f94e-ddcee319fbdf",
        "colab": {
          "base_uri": "https://localhost:8080/",
          "height": 34
        }
      },
      "source": [
        "y_hat[:, 0].shape"
      ],
      "execution_count": 0,
      "outputs": [
        {
          "output_type": "execute_result",
          "data": {
            "text/plain": [
              "(142272,)"
            ]
          },
          "metadata": {
            "tags": []
          },
          "execution_count": 171
        }
      ]
    },
    {
      "cell_type": "code",
      "metadata": {
        "id": "bL7KjI7HcKGz",
        "colab_type": "code",
        "outputId": "0609943d-2b11-480a-b642-d447ecadfbd4",
        "colab": {
          "base_uri": "https://localhost:8080/",
          "height": 34
        }
      },
      "source": [
        "y[:, 0].shape"
      ],
      "execution_count": 0,
      "outputs": [
        {
          "output_type": "execute_result",
          "data": {
            "text/plain": [
              "(142272,)"
            ]
          },
          "metadata": {
            "tags": []
          },
          "execution_count": 172
        }
      ]
    },
    {
      "cell_type": "code",
      "metadata": {
        "id": "10QrDm9Rcq7c",
        "colab_type": "code",
        "outputId": "77975c2b-933d-4ba6-f969-f1a08c752a35",
        "colab": {
          "base_uri": "https://localhost:8080/",
          "height": 265
        }
      },
      "source": [
        "plt.plot(y[:500, 0], 'r-', label='actual')\n",
        "plt.plot(y_hat[:500, 0], 'b-', label='predicted')\n",
        "plt.legend()\n",
        "plt.show()"
      ],
      "execution_count": 0,
      "outputs": [
        {
          "output_type": "display_data",
          "data": {
            "image/png": "[encoded data removed]",
            "text/plain": [
              "<Figure size 432x288 with 1 Axes>"
            ]
          },
          "metadata": {
            "tags": []
          }
        }
      ]
    },
    {
      "cell_type": "code",
      "metadata": {
        "id": "4VxyXa6_dCSn",
        "colab_type": "code",
        "colab": {}
      },
      "source": [
        ""
      ],
      "execution_count": 0,
      "outputs": []
    },
    {
      "cell_type": "code",
      "metadata": {
        "id": "-8Vh3IrMdL_U",
        "colab_type": "code",
        "colab": {}
      },
      "source": [
        ""
      ],
      "execution_count": 0,
      "outputs": []
    }
  ]
}