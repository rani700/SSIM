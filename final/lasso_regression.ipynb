{
  "nbformat": 4,
  "nbformat_minor": 0,
  "metadata": {
    "colab": {
      "name": "lasso_regression_thesis.ipynb",
      "provenance": [],
      "machine_shape": "hm"
    },
    "kernelspec": {
      "name": "python3",
      "display_name": "Python 3"
    }
  },
  "cells": [
    {
      "cell_type": "code",
      "metadata": {
        "id": "OhH1zT8hXAk1",
        "colab_type": "code",
        "colab": {}
      },
      "source": [
        "import torch\n",
        "import torch.nn as nn\n",
        "import torch.optim as optim\n",
        "import torch.nn.functional as F\n",
        "from torch.autograd import Variable\n",
        "import random, math, os, time\n",
        "\n",
        "import numpy as np\n",
        "np.set_printoptions(threshold=np.inf)\n",
        "import pandas as pd"
      ],
      "execution_count": 0,
      "outputs": []
    },
    {
      "cell_type": "code",
      "metadata": {
        "id": "LlvhMK0sY0Ax",
        "colab_type": "code",
        "colab": {}
      },
      "source": [
        "from sklearn.preprocessing import StandardScaler\n",
        "from sklearn.model_selection import train_test_split"
      ],
      "execution_count": 0,
      "outputs": []
    },
    {
      "cell_type": "code",
      "metadata": {
        "id": "uUJxJvvnYn22",
        "colab_type": "code",
        "colab": {}
      },
      "source": [
        "# set the random seeds for reproducability\n",
        "SEED = 1234\n",
        "random.seed(SEED)\n",
        "\n",
        "\n",
        "def generate_samples(x, y, model_params, seq_len_before=7, seq_len_after=7, output_seq_len=9):\n",
        "    \"\"\"\n",
        "    Generate samples, input past and future, target middle\n",
        "    :param x: input dataframe\n",
        "    :param y: target variable to impute\n",
        "    :param seq_len_before:\n",
        "    :param seq_len_after:\n",
        "    :param output_seq_len:\n",
        "    :return: (inputsequence, targetsequence)\n",
        "    \"\"\"\n",
        "    total_samples = x.shape[0]\n",
        "    total_len = seq_len_before + seq_len_after + output_seq_len\n",
        "\n",
        "    input_batch_idxs = [list(range(i, i + seq_len_before)) + list(\n",
        "        range(i + seq_len_before + output_seq_len, i + seq_len_before + output_seq_len + seq_len_after)) for i in\n",
        "                        range((total_samples - total_len + 1))]\n",
        "\n",
        "    input_seq = np.take(x, input_batch_idxs, axis=0)\n",
        "\n",
        "    z = np.zeros((output_seq_len, model_params['dim_in']))\n",
        "\n",
        "    input_seq = np.array([np.concatenate((i[:seq_len_before], z, i[seq_len_before:])) for i in input_seq])\n",
        "\n",
        "    output_batch_idxs = [list(range(i + seq_len_before, i + seq_len_before + output_seq_len)) for i in\n",
        "                         range((total_samples - total_len + 1))]\n",
        "\n",
        "    output_seq = np.take(y, output_batch_idxs, axis=0)\n",
        "\n",
        "    return input_seq, output_seq\n",
        "\n",
        "\n",
        "def pad_all_cases(x, y, model_params, min_len_before=7, max_len_before=9, min_len_after=7, max_len_after=9,\n",
        "                  targetlength=9):\n",
        "    \"\"\"\n",
        "    variable length inputs, fix length outputs\n",
        "    :param x: input dataframe\n",
        "    :param y: target variable to impute\n",
        "    :param min_len_before:\n",
        "    :param max_len_before:\n",
        "    :param min_len_after:\n",
        "    :param max_len_after:\n",
        "    :param targetlength:\n",
        "    :return: inputsequence with same length, outputsequence with same length\n",
        "    \"\"\"\n",
        "    total_x = []\n",
        "    total_y = []\n",
        "    total_len_x = []\n",
        "    totle_len_before_x = []\n",
        "\n",
        "    for l_before in range(min_len_before, max_len_before + 1):\n",
        "        for l_after in range(min_len_after, max_len_after + 1):\n",
        "            case_x, case_y = generate_samples(x.values, y, model_params, l_before, l_after, targetlength)\n",
        "            # npad is a tuple of (n_before, n_after) for each dimension\n",
        "\n",
        "            len_x = np.full(case_x.shape[0], case_x.shape[1])\n",
        "            len_before_sequence_x = np.full(case_x.shape[0], l_before)\n",
        "\n",
        "            npad = ((0, 0), (0, max_len_before - l_before + max_len_after - l_after), (0, 0))\n",
        "\n",
        "            same_length_x = np.pad(case_x, pad_width=npad, mode='constant', constant_values=0)\n",
        "\n",
        "            total_x.append(same_length_x)\n",
        "            total_y.append(case_y)\n",
        "            total_len_x.append(len_x)\n",
        "            totle_len_before_x.append(len_before_sequence_x)\n",
        "\n",
        "    ## total x,y\n",
        "    concatenated_x = np.concatenate(total_x, axis=0)\n",
        "    concatenated_y = np.concatenate(total_y, axis=0)\n",
        "    len_all_case = np.concatenate(total_len_x).ravel()\n",
        "    len_before_all_case = np.concatenate(totle_len_before_x).ravel()\n",
        "\n",
        "    return concatenated_x, concatenated_y, len_all_case, len_before_all_case\n"
      ],
      "execution_count": 0,
      "outputs": []
    },
    {
      "cell_type": "code",
      "metadata": {
        "id": "y1sNIM1kYn1a",
        "colab_type": "code",
        "colab": {}
      },
      "source": [
        "def preprocess_df(df):\n",
        "    \"\"\" The training and testing data are manually selected.\n",
        "    :param df:  dataframe with raw data\n",
        "    :return:\n",
        "    \"\"\"\n",
        "\n",
        "    df.set_index('date', inplace=True)\n",
        "\n",
        "    pm25 = df['pm2.5'].values.copy().reshape(-1, 1)\n",
        "\n",
        "    # Standlization, use StandardScaler\n",
        "    scaler_x = StandardScaler()\n",
        "    scaler_x.fit(df[['pm2.5', 'DEWP', 'TEMP', 'PRES', 'Iws', 'Is', 'Ir']])\n",
        "    df[\n",
        "        ['pm2.5', 'DEWP', 'TEMP', 'PRES', 'Iws', 'Is', 'Ir']] = scaler_x.transform(\n",
        "        df[['pm2.5', 'DEWP', 'TEMP', 'PRES', 'Iws', 'Is', 'Ir']])\n",
        "\n",
        "    scaler_y = StandardScaler()\n",
        "    scaler_y.fit(pm25)\n",
        "    y_all = scaler_y.transform(pm25)\n",
        "\n",
        "\n",
        "    df_train = df.loc['2/01/2010 0:00':'31/12/2013 23:00'].copy()\n",
        "    df_test = df.loc['1/01/2014 0:00':'31/12/2014 23:00'].copy()\n",
        "\n",
        "\n",
        "    return df_train, df_test, y_all, scaler_x, scaler_y\n",
        "\n",
        "\n",
        "def train_val_test_generate(dataframe, model_params):\n",
        "    '''\n",
        "    :param dataframe: processed dataframe\n",
        "    :param model_params: for input dim\n",
        "    :return: train_x, train_y, test_x, test_y with the same length (by padding zero)\n",
        "    '''\n",
        "\n",
        "    train_val_test_x, train_val_test_y, len_x_samples, len_before_x_samples = pad_all_cases(dataframe,\n",
        "                                                                                            dataframe['pm2.5'].values,\n",
        "                                                                                            model_params,\n",
        "                                                                                            model_params['min_before'],\n",
        "                                                                                            model_params['max_before'],\n",
        "                                                                                            model_params['min_after'],\n",
        "                                                                                            model_params['max_after'],\n",
        "                                                                                            model_params[\n",
        "                                                                                                'output_length'])\n",
        "\n",
        "    train_val_test_y = np.expand_dims(train_val_test_y, axis=2)\n",
        "\n",
        "    return train_val_test_x, train_val_test_y, len_x_samples, len_before_x_samples\n",
        "\n",
        "\n",
        "def train_test_split_SSIM(x, y, x_len, x_before_len, model_params, SEED):\n",
        "    '''\n",
        "    :param x: all x samples\n",
        "    :param y: all y samples\n",
        "    :param model_params: parameters\n",
        "    :param SEED: random SEED\n",
        "    :return: train set, test set\n",
        "    '''\n",
        "\n",
        "    ## check and remove samples with NaN (just incase)\n",
        "    index_list = []\n",
        "    for index, (x_s, y_s, len_s, len_before_s) in enumerate(zip(x, y, x_len, x_before_len)):\n",
        "        if (np.isnan(x_s).any()) or (np.isnan(y_s).any()):\n",
        "            index_list.append(index)\n",
        "\n",
        "    x = np.delete(x, index_list, axis=0)\n",
        "    y = np.delete(y, index_list, axis=0)\n",
        "    x_len = np.delete(x_len, index_list, axis=0)\n",
        "    x_before_len = np.delete(x_before_len, index_list, axis=0)\n",
        "\n",
        "    x_train, x_test, y_train, y_test = train_test_split(x, y, test_size=None,\n",
        "                                                        random_state=SEED,\n",
        "                                                        shuffle=False)\n",
        "\n",
        "    x_train_len, x_test_len = train_test_split(x_len, test_size=None, random_state=SEED, shuffle=False)\n",
        "\n",
        "    x_train_before_len, x_test_before_len = train_test_split(x_before_len, test_size=None, random_state=SEED,\n",
        "                                                             shuffle=False)\n",
        "\n",
        "    return x_train, y_train, x_train_len, x_train_before_len\n",
        "\n",
        "\n",
        "def test_pm25_single_station():\n",
        "    train_sampling_params = {\n",
        "        'dim_in': 11,\n",
        "        'output_length': 5,\n",
        "        'min_before': 20,\n",
        "        'max_before': 25,\n",
        "        'min_after': 20,\n",
        "        'max_after': 25,\n",
        "        'file_path': 'https://raw.githubusercontent.com/vishal-pandey/SSIM/master/SSIM/data/simplified_PM25.csv?token=AEUYORDEDCPUGTQDITBQ7UC54LXKM'\n",
        "    }\n",
        "\n",
        "    test_sampling_params = {\n",
        "        'dim_in': 11,\n",
        "        'output_length': 5,\n",
        "        'min_before': 20,\n",
        "        'max_before': 25,\n",
        "        'min_after': 20,\n",
        "        'max_after': 25,\n",
        "        'file_path': 'https://raw.githubusercontent.com/vishal-pandey/SSIM/master/SSIM/data/simplified_PM25.csv?token=AEUYORDEDCPUGTQDITBQ7UC54LXKM'\n",
        "    }\n",
        "\n",
        "    filepath = 'https://raw.githubusercontent.com/vishal-pandey/SSIM/master/SSIM/data/simplified_PM25.csv?token=AEUYORDEDCPUGTQDITBQ7UC54LXKM'\n",
        "    df = pd.read_csv(filepath, dayfirst=True)\n",
        "\n",
        "    df_train, df_test, y, scaler_x, scaler_y = preprocess_df(df)\n",
        "\n",
        "    x_samples, y_samples, x_len, x_before_len = train_val_test_generate(df_train, train_sampling_params)\n",
        "\n",
        "    print('X_samples:{}'.format(x_samples.shape))\n",
        "    print('y_samples:{}'.format(y_samples.shape))\n",
        "\n",
        "    x_train, y_train, x_train_len, x_train_before_len = train_test_split_SSIM(x_samples, y_samples, x_len, x_before_len,\n",
        "                                                                              train_sampling_params, SEED)\n",
        "\n",
        "    print('x_train:{}'.format(x_train.shape))\n",
        "    print('y_train:{}'.format(y_train.shape))\n",
        "    print('x_train_len:{}'.format(x_train_len.shape))\n",
        "    print('x_train_before_len:{}'.format(x_train_before_len.shape))\n",
        "\n",
        "    x_train = x_train[:944700, :, :]\n",
        "    y_train = y_train[:944700, :, :]\n",
        "\n",
        "    x_train_len = x_train_len[:944700]\n",
        "    x_train_before_len = x_train_before_len[:944700]\n",
        "\n",
        "    x_samples, y_samples, x_len, x_before_len = train_val_test_generate(df_test, test_sampling_params)\n",
        "\n",
        "    print('X_samples:{}'.format(x_samples.shape))\n",
        "    print('y_samples:{}'.format(y_samples.shape))\n",
        "\n",
        "    x_test, y_test, x_test_len, x_test_before_len = train_test_split_SSIM(x_samples, y_samples, x_len, x_before_len,\n",
        "                                                                          test_sampling_params, SEED)\n",
        "\n",
        "    print('x_test:{}'.format(x_test.shape))\n",
        "    print('y_test:{}'.format(y_test.shape))\n",
        "    print('x_test_len:{}'.format(x_test_len.shape))\n",
        "    print('x_test_before_len:{}'.format(x_test_before_len.shape))\n",
        "\n",
        "    x_test = x_test[:6500, :, :]\n",
        "    y_test = y_test[:6500, :, :]\n",
        "\n",
        "    x_test_len = x_test_len[:6500]\n",
        "    x_test_before_len = x_test_before_len[:6500]\n",
        "\n",
        "    return (x_train, y_train, x_train_len, x_train_before_len) , (x_test, y_test, x_test_len, x_test_before_len)\n",
        "\n",
        "\n"
      ],
      "execution_count": 0,
      "outputs": []
    },
    {
      "cell_type": "code",
      "metadata": {
        "id": "c4R1g5PlYnyM",
        "colab_type": "code",
        "colab": {}
      },
      "source": [
        ""
      ],
      "execution_count": 0,
      "outputs": []
    },
    {
      "cell_type": "code",
      "metadata": {
        "id": "XxYAwQPvYnvL",
        "colab_type": "code",
        "colab": {}
      },
      "source": [
        ""
      ],
      "execution_count": 0,
      "outputs": []
    },
    {
      "cell_type": "code",
      "metadata": {
        "id": "2oKME_vPYnl8",
        "colab_type": "code",
        "colab": {}
      },
      "source": [
        ""
      ],
      "execution_count": 0,
      "outputs": []
    },
    {
      "cell_type": "code",
      "metadata": {
        "id": "dt3eF26FYKzA",
        "colab_type": "code",
        "outputId": "b95c95a5-8e43-48c6-e61b-d0df9af3cbe6",
        "colab": {
          "base_uri": "https://localhost:8080/",
          "height": 221
        }
      },
      "source": [
        "(x_train, y_train, x_train_len, x_train_before_len), (\n",
        "    x_test, y_test, x_test_len, x_test_before_len) = test_pm25_single_station()"
      ],
      "execution_count": 5,
      "outputs": [
        {
          "output_type": "stream",
          "text": [
            "X_samples:(1259676, 55, 11)\n",
            "y_samples:(1259676, 5, 1)\n",
            "x_train:(944757, 55, 11)\n",
            "y_train:(944757, 5, 1)\n",
            "x_train_len:(944757,)\n",
            "x_train_before_len:(944757,)\n",
            "X_samples:(313596, 55, 11)\n",
            "y_samples:(313596, 5, 1)\n",
            "x_test:(235197, 55, 11)\n",
            "y_test:(235197, 5, 1)\n",
            "x_test_len:(235197,)\n",
            "x_test_before_len:(235197,)\n"
          ],
          "name": "stdout"
        }
      ]
    },
    {
      "cell_type": "code",
      "metadata": {
        "id": "pY_aTxSMYnFk",
        "colab_type": "code",
        "outputId": "bb1d1ba9-2f23-49df-f826-25c98b66d861",
        "colab": {
          "base_uri": "https://localhost:8080/",
          "height": 204
        }
      },
      "source": [
        "x_train[199, :, 0]"
      ],
      "execution_count": 6,
      "outputs": [
        {
          "output_type": "execute_result",
          "data": {
            "text/plain": [
              "array([-0.79634585, -0.77446341, -0.68693366, -0.52281539, -0.30399102,\n",
              "       -0.24928492, -0.43528564, -0.30399102, -0.32587345, -0.2930498 ,\n",
              "       -0.10704908, -0.15081396, -0.16175517, -0.34775589, -0.77446341,\n",
              "       -0.80728707, -0.8291695 , -0.81822829, -0.77446341, -0.81822829,\n",
              "        0.        ,  0.        ,  0.        ,  0.        ,  0.        ,\n",
              "       -0.85105194, -0.87293438, -0.79634585, -0.78540463, -0.77446341,\n",
              "       -0.76352219, -0.90575803, -0.80728707, -0.92764047, -0.92764047,\n",
              "       -0.92764047, -0.8838756 , -0.85105194, -0.77446341, -0.85105194,\n",
              "       -0.90575803, -0.84011072, -0.84011072, -0.66505123, -0.78540463,\n",
              "        0.        ,  0.        ,  0.        ,  0.        ,  0.        ,\n",
              "        0.        ,  0.        ,  0.        ,  0.        ,  0.        ])"
            ]
          },
          "metadata": {
            "tags": []
          },
          "execution_count": 6
        }
      ]
    },
    {
      "cell_type": "code",
      "metadata": {
        "id": "j5qsi0OkbrXl",
        "colab_type": "code",
        "colab": {}
      },
      "source": [
        "X = x_train\n",
        "y = y_train"
      ],
      "execution_count": 0,
      "outputs": []
    },
    {
      "cell_type": "code",
      "metadata": {
        "id": "zMHY2d8oJ0NT",
        "colab_type": "code",
        "colab": {}
      },
      "source": [
        "from sklearn.linear_model import Lasso"
      ],
      "execution_count": 0,
      "outputs": []
    },
    {
      "cell_type": "code",
      "metadata": {
        "id": "dFbClgfyKS8P",
        "colab_type": "code",
        "colab": {}
      },
      "source": [
        "lin_reg = Lasso(alpha=0.1)"
      ],
      "execution_count": 0,
      "outputs": []
    },
    {
      "cell_type": "code",
      "metadata": {
        "id": "pTDSmdQgKXFe",
        "colab_type": "code",
        "outputId": "98aa593d-74c1-4cca-e7a8-5c781903015c",
        "colab": {
          "base_uri": "https://localhost:8080/",
          "height": 68
        }
      },
      "source": [
        "lin_reg.fit(X.reshape(X.shape[0], -1), y.reshape(y.shape[0], -1))"
      ],
      "execution_count": 21,
      "outputs": [
        {
          "output_type": "execute_result",
          "data": {
            "text/plain": [
              "Lasso(alpha=0.1, copy_X=True, fit_intercept=True, max_iter=1000,\n",
              "      normalize=False, positive=False, precompute=False, random_state=None,\n",
              "      selection='cyclic', tol=0.0001, warm_start=False)"
            ]
          },
          "metadata": {
            "tags": []
          },
          "execution_count": 21
        }
      ]
    },
    {
      "cell_type": "code",
      "metadata": {
        "id": "D_3r7JDNL4nV",
        "colab_type": "code",
        "colab": {}
      },
      "source": [
        "import matplotlib.pyplot as plt"
      ],
      "execution_count": 0,
      "outputs": []
    },
    {
      "cell_type": "code",
      "metadata": {
        "id": "Wl4FOcEOUE6b",
        "colab_type": "code",
        "colab": {}
      },
      "source": [
        "yhat = lin_reg.predict(x_test.reshape(x_test.shape[0], -1))"
      ],
      "execution_count": 0,
      "outputs": []
    },
    {
      "cell_type": "code",
      "metadata": {
        "id": "KNmCjvRwKcM-",
        "colab_type": "code",
        "outputId": "c71fc9ca-2c16-49cf-a7ab-687f1b9d26a2",
        "colab": {
          "base_uri": "https://localhost:8080/",
          "height": 88
        }
      },
      "source": [
        "lin_reg.score(X.reshape(X.shape[0], -1), y.reshape(y.shape[0], -1))"
      ],
      "execution_count": 24,
      "outputs": [
        {
          "output_type": "stream",
          "text": [
            "/usr/local/lib/python3.6/dist-packages/sklearn/base.py:420: FutureWarning: The default value of multioutput (not exposed in score method) will change from 'variance_weighted' to 'uniform_average' in 0.23 to keep consistent with 'metrics.r2_score'. To specify the default value manually and avoid the warning, please either call 'metrics.r2_score' directly or make a custom scorer with 'metrics.make_scorer' (the built-in scorer 'r2' uses multioutput='uniform_average').\n",
            "  \"multioutput='uniform_average').\", FutureWarning)\n"
          ],
          "name": "stderr"
        },
        {
          "output_type": "execute_result",
          "data": {
            "text/plain": [
              "0.7749181930162172"
            ]
          },
          "metadata": {
            "tags": []
          },
          "execution_count": 24
        }
      ]
    },
    {
      "cell_type": "code",
      "metadata": {
        "id": "mtYuXHXBKh8Y",
        "colab_type": "code",
        "outputId": "4c5d4930-b1fb-402c-8eac-a6f7db52e8c2",
        "colab": {
          "base_uri": "https://localhost:8080/",
          "height": 88
        }
      },
      "source": [
        "lin_reg.score(x_test.reshape(x_test.shape[0], -1), y_test.reshape(y_test.shape[0], -1))"
      ],
      "execution_count": 25,
      "outputs": [
        {
          "output_type": "stream",
          "text": [
            "/usr/local/lib/python3.6/dist-packages/sklearn/base.py:420: FutureWarning: The default value of multioutput (not exposed in score method) will change from 'variance_weighted' to 'uniform_average' in 0.23 to keep consistent with 'metrics.r2_score'. To specify the default value manually and avoid the warning, please either call 'metrics.r2_score' directly or make a custom scorer with 'metrics.make_scorer' (the built-in scorer 'r2' uses multioutput='uniform_average').\n",
            "  \"multioutput='uniform_average').\", FutureWarning)\n"
          ],
          "name": "stderr"
        },
        {
          "output_type": "execute_result",
          "data": {
            "text/plain": [
              "0.8180390584515109"
            ]
          },
          "metadata": {
            "tags": []
          },
          "execution_count": 25
        }
      ]
    },
    {
      "cell_type": "code",
      "metadata": {
        "id": "nu9vThWeKs64",
        "colab_type": "code",
        "outputId": "c7eee272-e178-44cd-a3df-e198ad559933",
        "colab": {
          "base_uri": "https://localhost:8080/",
          "height": 34
        }
      },
      "source": [
        "x_test.shape"
      ],
      "execution_count": 26,
      "outputs": [
        {
          "output_type": "execute_result",
          "data": {
            "text/plain": [
              "(6500, 55, 11)"
            ]
          },
          "metadata": {
            "tags": []
          },
          "execution_count": 26
        }
      ]
    },
    {
      "cell_type": "code",
      "metadata": {
        "id": "iAxy4m3UMYzM",
        "colab_type": "code",
        "colab": {}
      },
      "source": [
        "check = y_test.reshape(y_test.shape[0], -1) - yhat"
      ],
      "execution_count": 0,
      "outputs": []
    },
    {
      "cell_type": "code",
      "metadata": {
        "id": "_XP97hwFXbAo",
        "colab_type": "code",
        "outputId": "36dd17ba-96f6-4060-ba27-084334307a15",
        "colab": {
          "base_uri": "https://localhost:8080/",
          "height": 282
        }
      },
      "source": [
        "plt.plot(check[:, 0], range(0, len(check)), 'r-', alpha=1)\n",
        "plt.plot(check[:, 1], range(0, len(check)), 'g-', alpha=1)\n",
        "plt.plot(check[:, 2], range(0, len(check)), 'b-', alpha=1)\n",
        "plt.plot(check[:, 3], range(0, len(check)), 'p-', alpha=1)\n",
        "plt.plot(check[:, 4], range(0, len(check)), 'c-', alpha=1)"
      ],
      "execution_count": 28,
      "outputs": [
        {
          "output_type": "execute_result",
          "data": {
            "text/plain": [
              "[<matplotlib.lines.Line2D at 0x7f7baf9ca358>]"
            ]
          },
          "metadata": {
            "tags": []
          },
          "execution_count": 28
        },
        {
          "output_type": "display_data",
          "data": {
            "image/png": "[encoded data removed]",
            "text/plain": [
              "<Figure size 432x288 with 1 Axes>"
            ]
          },
          "metadata": {
            "tags": []
          }
        }
      ]
    },
    {
      "cell_type": "code",
      "metadata": {
        "id": "AQT0fSZuUT0_",
        "colab_type": "code",
        "outputId": "e1e4b6e1-69e9-43c8-d386-e68222cf3ebf",
        "colab": {
          "base_uri": "https://localhost:8080/",
          "height": 282
        }
      },
      "source": [
        "plt.scatter(check[:, 0], range(0, len(check)), c='r', marker='o')\n",
        "plt.scatter(check[:, 1], range(0, len(check)), c='g', marker='o', alpha=0.1)\n",
        "plt.scatter(check[:, 2], range(0, len(check)), c='b', marker='o', alpha=0.1)\n",
        "plt.scatter(check[:, 3], range(0, len(check)), c='yellow', marker='o', alpha=0.1)\n",
        "plt.scatter(check[:, 4], range(0, len(check)), c='orange', marker='o', alpha=0.1)"
      ],
      "execution_count": 29,
      "outputs": [
        {
          "output_type": "execute_result",
          "data": {
            "text/plain": [
              "<matplotlib.collections.PathCollection at 0x7f7bafa3f128>"
            ]
          },
          "metadata": {
            "tags": []
          },
          "execution_count": 29
        },
        {
          "output_type": "display_data",
          "data": {
            "image/png": "[encoded data removed]",
            "text/plain": [
              "<Figure size 432x288 with 1 Axes>"
            ]
          },
          "metadata": {
            "tags": []
          }
        }
      ]
    },
    {
      "cell_type": "code",
      "metadata": {
        "id": "THbxklfDUfp6",
        "colab_type": "code",
        "outputId": "0f84cc32-14a9-432d-c8f1-953f94384536",
        "colab": {
          "base_uri": "https://localhost:8080/",
          "height": 265
        }
      },
      "source": [
        "plt.plot(yhat[:500, 0], 'r-', alpha=1, label='predicted')\n",
        "plt.plot(y_test.reshape(y_test.shape[0], -1)[:500, 0], 'g-', alpha=1, label='actual')\n",
        "plt.legend()\n",
        "plt.show()"
      ],
      "execution_count": 30,
      "outputs": [
        {
          "output_type": "display_data",
          "data": {
            "image/png": "[encoded data removed]",
            "text/plain": [
              "<Figure size 432x288 with 1 Axes>"
            ]
          },
          "metadata": {
            "tags": []
          }
        }
      ]
    },
    {
      "cell_type": "code",
      "metadata": {
        "id": "o4YkBrI5Vw_D",
        "colab_type": "code",
        "colab": {}
      },
      "source": [
        ""
      ],
      "execution_count": 0,
      "outputs": []
    },
    {
      "cell_type": "code",
      "metadata": {
        "id": "UUylXOwgWrWO",
        "colab_type": "code",
        "colab": {}
      },
      "source": [
        ""
      ],
      "execution_count": 0,
      "outputs": []
    }
  ]
}