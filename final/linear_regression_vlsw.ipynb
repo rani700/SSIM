{
  "nbformat": 4,
  "nbformat_minor": 0,
  "metadata": {
    "colab": {
      "name": "linear_regression_thesis.ipynb",
      "provenance": [],
      "machine_shape": "hm"
    },
    "kernelspec": {
      "name": "python3",
      "display_name": "Python 3"
    }
  },
  "cells": [
    {
      "cell_type": "code",
      "metadata": {
        "id": "OhH1zT8hXAk1",
        "colab_type": "code",
        "colab": {}
      },
      "source": [
        "import torch\n",
        "import torch.nn as nn\n",
        "import torch.optim as optim\n",
        "import torch.nn.functional as F\n",
        "from torch.autograd import Variable\n",
        "import random, math, os, time\n",
        "\n",
        "import numpy as np\n",
        "np.set_printoptions(threshold=np.inf)\n",
        "import pandas as pd"
      ],
      "execution_count": 0,
      "outputs": []
    },
    {
      "cell_type": "code",
      "metadata": {
        "id": "LlvhMK0sY0Ax",
        "colab_type": "code",
        "colab": {}
      },
      "source": [
        "from sklearn.preprocessing import StandardScaler\n",
        "from sklearn.model_selection import train_test_split"
      ],
      "execution_count": 0,
      "outputs": []
    },
    {
      "cell_type": "code",
      "metadata": {
        "id": "uUJxJvvnYn22",
        "colab_type": "code",
        "colab": {}
      },
      "source": [
        "# set the random seeds for reproducability\n",
        "SEED = 1234\n",
        "random.seed(SEED)\n",
        "\n",
        "\n",
        "def generate_samples(x, y, model_params, seq_len_before=7, seq_len_after=7, output_seq_len=9):\n",
        "    \"\"\"\n",
        "    Generate samples, input past and future, target middle\n",
        "    :param x: input dataframe\n",
        "    :param y: target variable to impute\n",
        "    :param seq_len_before:\n",
        "    :param seq_len_after:\n",
        "    :param output_seq_len:\n",
        "    :return: (inputsequence, targetsequence)\n",
        "    \"\"\"\n",
        "    total_samples = x.shape[0]\n",
        "    total_len = seq_len_before + seq_len_after + output_seq_len\n",
        "\n",
        "    input_batch_idxs = [list(range(i, i + seq_len_before)) + list(\n",
        "        range(i + seq_len_before + output_seq_len, i + seq_len_before + output_seq_len + seq_len_after)) for i in\n",
        "                        range((total_samples - total_len + 1))]\n",
        "\n",
        "    input_seq = np.take(x, input_batch_idxs, axis=0)\n",
        "\n",
        "    z = np.zeros((output_seq_len, model_params['dim_in']))\n",
        "\n",
        "    input_seq = np.array([np.concatenate((i[:seq_len_before], z, i[seq_len_before:])) for i in input_seq])\n",
        "\n",
        "    output_batch_idxs = [list(range(i + seq_len_before, i + seq_len_before + output_seq_len)) for i in\n",
        "                         range((total_samples - total_len + 1))]\n",
        "\n",
        "    output_seq = np.take(y, output_batch_idxs, axis=0)\n",
        "\n",
        "    return input_seq, output_seq\n",
        "\n",
        "\n",
        "def pad_all_cases(x, y, model_params, min_len_before=7, max_len_before=9, min_len_after=7, max_len_after=9,\n",
        "                  targetlength=9):\n",
        "    \"\"\"\n",
        "    variable length inputs, fix length outputs\n",
        "    :param x: input dataframe\n",
        "    :param y: target variable to impute\n",
        "    :param min_len_before:\n",
        "    :param max_len_before:\n",
        "    :param min_len_after:\n",
        "    :param max_len_after:\n",
        "    :param targetlength:\n",
        "    :return: inputsequence with same length, outputsequence with same length\n",
        "    \"\"\"\n",
        "    total_x = []\n",
        "    total_y = []\n",
        "    total_len_x = []\n",
        "    totle_len_before_x = []\n",
        "\n",
        "    for l_before in range(min_len_before, max_len_before + 1):\n",
        "        for l_after in range(min_len_after, max_len_after + 1):\n",
        "            case_x, case_y = generate_samples(x.values, y, model_params, l_before, l_after, targetlength)\n",
        "            # npad is a tuple of (n_before, n_after) for each dimension\n",
        "\n",
        "            len_x = np.full(case_x.shape[0], case_x.shape[1])\n",
        "            len_before_sequence_x = np.full(case_x.shape[0], l_before)\n",
        "\n",
        "            npad = ((0, 0), (0, max_len_before - l_before + max_len_after - l_after), (0, 0))\n",
        "\n",
        "            same_length_x = np.pad(case_x, pad_width=npad, mode='constant', constant_values=0)\n",
        "\n",
        "            total_x.append(same_length_x)\n",
        "            total_y.append(case_y)\n",
        "            total_len_x.append(len_x)\n",
        "            totle_len_before_x.append(len_before_sequence_x)\n",
        "\n",
        "    ## total x,y\n",
        "    concatenated_x = np.concatenate(total_x, axis=0)\n",
        "    concatenated_y = np.concatenate(total_y, axis=0)\n",
        "    len_all_case = np.concatenate(total_len_x).ravel()\n",
        "    len_before_all_case = np.concatenate(totle_len_before_x).ravel()\n",
        "\n",
        "    return concatenated_x, concatenated_y, len_all_case, len_before_all_case\n"
      ],
      "execution_count": 0,
      "outputs": []
    },
    {
      "cell_type": "code",
      "metadata": {
        "id": "y1sNIM1kYn1a",
        "colab_type": "code",
        "colab": {}
      },
      "source": [
        "def preprocess_df(df):\n",
        "    \"\"\" The training and testing data are manually selected.\n",
        "    :param df:  dataframe with raw data\n",
        "    :return:\n",
        "    \"\"\"\n",
        "\n",
        "    df.set_index('date', inplace=True)\n",
        "\n",
        "    pm25 = df['pm2.5'].values.copy().reshape(-1, 1)\n",
        "\n",
        "    # Standlization, use StandardScaler\n",
        "    scaler_x = StandardScaler()\n",
        "    scaler_x.fit(df[['pm2.5', 'DEWP', 'TEMP', 'PRES', 'Iws', 'Is', 'Ir']])\n",
        "    df[\n",
        "        ['pm2.5', 'DEWP', 'TEMP', 'PRES', 'Iws', 'Is', 'Ir']] = scaler_x.transform(\n",
        "        df[['pm2.5', 'DEWP', 'TEMP', 'PRES', 'Iws', 'Is', 'Ir']])\n",
        "\n",
        "    scaler_y = StandardScaler()\n",
        "    scaler_y.fit(pm25)\n",
        "    y_all = scaler_y.transform(pm25)\n",
        "\n",
        "\n",
        "    df_train = df.loc['2/01/2010 0:00':'31/12/2013 23:00'].copy()\n",
        "    df_test = df.loc['1/01/2014 0:00':'31/12/2014 23:00'].copy()\n",
        "\n",
        "\n",
        "    return df_train, df_test, y_all, scaler_x, scaler_y\n",
        "\n",
        "\n",
        "def train_val_test_generate(dataframe, model_params):\n",
        "    '''\n",
        "    :param dataframe: processed dataframe\n",
        "    :param model_params: for input dim\n",
        "    :return: train_x, train_y, test_x, test_y with the same length (by padding zero)\n",
        "    '''\n",
        "\n",
        "    train_val_test_x, train_val_test_y, len_x_samples, len_before_x_samples = pad_all_cases(dataframe,\n",
        "                                                                                            dataframe['pm2.5'].values,\n",
        "                                                                                            model_params,\n",
        "                                                                                            model_params['min_before'],\n",
        "                                                                                            model_params['max_before'],\n",
        "                                                                                            model_params['min_after'],\n",
        "                                                                                            model_params['max_after'],\n",
        "                                                                                            model_params[\n",
        "                                                                                                'output_length'])\n",
        "\n",
        "    train_val_test_y = np.expand_dims(train_val_test_y, axis=2)\n",
        "\n",
        "    return train_val_test_x, train_val_test_y, len_x_samples, len_before_x_samples\n",
        "\n",
        "\n",
        "def train_test_split_SSIM(x, y, x_len, x_before_len, model_params, SEED):\n",
        "    '''\n",
        "    :param x: all x samples\n",
        "    :param y: all y samples\n",
        "    :param model_params: parameters\n",
        "    :param SEED: random SEED\n",
        "    :return: train set, test set\n",
        "    '''\n",
        "\n",
        "    ## check and remove samples with NaN (just incase)\n",
        "    index_list = []\n",
        "    for index, (x_s, y_s, len_s, len_before_s) in enumerate(zip(x, y, x_len, x_before_len)):\n",
        "        if (np.isnan(x_s).any()) or (np.isnan(y_s).any()):\n",
        "            index_list.append(index)\n",
        "\n",
        "    x = np.delete(x, index_list, axis=0)\n",
        "    y = np.delete(y, index_list, axis=0)\n",
        "    x_len = np.delete(x_len, index_list, axis=0)\n",
        "    x_before_len = np.delete(x_before_len, index_list, axis=0)\n",
        "\n",
        "    x_train, x_test, y_train, y_test = train_test_split(x, y, test_size=None,\n",
        "                                                        random_state=SEED,\n",
        "                                                        shuffle=False)\n",
        "\n",
        "    x_train_len, x_test_len = train_test_split(x_len, test_size=None, random_state=SEED, shuffle=False)\n",
        "\n",
        "    x_train_before_len, x_test_before_len = train_test_split(x_before_len, test_size=None, random_state=SEED,\n",
        "                                                             shuffle=False)\n",
        "\n",
        "    return x_train, y_train, x_train_len, x_train_before_len\n",
        "\n",
        "\n",
        "def test_pm25_single_station():\n",
        "    train_sampling_params = {\n",
        "        'dim_in': 11,\n",
        "        'output_length': 5,\n",
        "        'min_before': 20,\n",
        "        'max_before': 25,\n",
        "        'min_after': 20,\n",
        "        'max_after': 25,\n",
        "        'file_path': 'https://raw.githubusercontent.com/vishal-pandey/SSIM/master/SSIM/data/simplified_PM25.csv?token=AEUYORDEDCPUGTQDITBQ7UC54LXKM'\n",
        "    }\n",
        "\n",
        "    test_sampling_params = {\n",
        "        'dim_in': 11,\n",
        "        'output_length': 5,\n",
        "        'min_before': 20,\n",
        "        'max_before': 25,\n",
        "        'min_after': 20,\n",
        "        'max_after': 25,\n",
        "        'file_path': 'https://raw.githubusercontent.com/vishal-pandey/SSIM/master/SSIM/data/simplified_PM25.csv?token=AEUYORDEDCPUGTQDITBQ7UC54LXKM'\n",
        "    }\n",
        "\n",
        "    filepath = 'https://raw.githubusercontent.com/vishal-pandey/SSIM/master/SSIM/data/simplified_PM25.csv?token=AEUYORDEDCPUGTQDITBQ7UC54LXKM'\n",
        "    df = pd.read_csv(filepath, dayfirst=True)\n",
        "\n",
        "    df_train, df_test, y, scaler_x, scaler_y = preprocess_df(df)\n",
        "\n",
        "    x_samples, y_samples, x_len, x_before_len = train_val_test_generate(df_train, train_sampling_params)\n",
        "\n",
        "    print('X_samples:{}'.format(x_samples.shape))\n",
        "    print('y_samples:{}'.format(y_samples.shape))\n",
        "\n",
        "    x_train, y_train, x_train_len, x_train_before_len = train_test_split_SSIM(x_samples, y_samples, x_len, x_before_len,\n",
        "                                                                              train_sampling_params, SEED)\n",
        "\n",
        "    print('x_train:{}'.format(x_train.shape))\n",
        "    print('y_train:{}'.format(y_train.shape))\n",
        "    print('x_train_len:{}'.format(x_train_len.shape))\n",
        "    print('x_train_before_len:{}'.format(x_train_before_len.shape))\n",
        "\n",
        "    x_train = x_train[:944700, :, :]\n",
        "    y_train = y_train[:944700, :, :]\n",
        "\n",
        "    x_train_len = x_train_len[:944700]\n",
        "    x_train_before_len = x_train_before_len[:944700]\n",
        "\n",
        "    x_samples, y_samples, x_len, x_before_len = train_val_test_generate(df_test, test_sampling_params)\n",
        "\n",
        "    print('X_samples:{}'.format(x_samples.shape))\n",
        "    print('y_samples:{}'.format(y_samples.shape))\n",
        "\n",
        "    x_test, y_test, x_test_len, x_test_before_len = train_test_split_SSIM(x_samples, y_samples, x_len, x_before_len,\n",
        "                                                                          test_sampling_params, SEED)\n",
        "\n",
        "    print('x_test:{}'.format(x_test.shape))\n",
        "    print('y_test:{}'.format(y_test.shape))\n",
        "    print('x_test_len:{}'.format(x_test_len.shape))\n",
        "    print('x_test_before_len:{}'.format(x_test_before_len.shape))\n",
        "\n",
        "    x_test = x_test[:6500, :, :]\n",
        "    y_test = y_test[:6500, :, :]\n",
        "\n",
        "    x_test_len = x_test_len[:6500]\n",
        "    x_test_before_len = x_test_before_len[:6500]\n",
        "\n",
        "    return (x_train, y_train, x_train_len, x_train_before_len) , (x_test, y_test, x_test_len, x_test_before_len)\n",
        "\n",
        "\n"
      ],
      "execution_count": 0,
      "outputs": []
    },
    {
      "cell_type": "code",
      "metadata": {
        "id": "c4R1g5PlYnyM",
        "colab_type": "code",
        "colab": {}
      },
      "source": [
        ""
      ],
      "execution_count": 0,
      "outputs": []
    },
    {
      "cell_type": "code",
      "metadata": {
        "id": "XxYAwQPvYnvL",
        "colab_type": "code",
        "colab": {}
      },
      "source": [
        ""
      ],
      "execution_count": 0,
      "outputs": []
    },
    {
      "cell_type": "code",
      "metadata": {
        "id": "2oKME_vPYnl8",
        "colab_type": "code",
        "colab": {}
      },
      "source": [
        ""
      ],
      "execution_count": 0,
      "outputs": []
    },
    {
      "cell_type": "code",
      "metadata": {
        "id": "dt3eF26FYKzA",
        "colab_type": "code",
        "outputId": "101ba8c6-ea47-434c-e44a-3e9189fa9f87",
        "colab": {
          "base_uri": "https://localhost:8080/",
          "height": 221
        }
      },
      "source": [
        "(x_train, y_train, x_train_len, x_train_before_len), (\n",
        "    x_test, y_test, x_test_len, x_test_before_len) = test_pm25_single_station()"
      ],
      "execution_count": 38,
      "outputs": [
        {
          "output_type": "stream",
          "text": [
            "X_samples:(1259676, 55, 11)\n",
            "y_samples:(1259676, 5, 1)\n",
            "x_train:(944757, 55, 11)\n",
            "y_train:(944757, 5, 1)\n",
            "x_train_len:(944757,)\n",
            "x_train_before_len:(944757,)\n",
            "X_samples:(313596, 55, 11)\n",
            "y_samples:(313596, 5, 1)\n",
            "x_test:(235197, 55, 11)\n",
            "y_test:(235197, 5, 1)\n",
            "x_test_len:(235197,)\n",
            "x_test_before_len:(235197,)\n"
          ],
          "name": "stdout"
        }
      ]
    },
    {
      "cell_type": "code",
      "metadata": {
        "id": "pY_aTxSMYnFk",
        "colab_type": "code",
        "outputId": "15fffbaf-2e87-4ea0-9d24-8e2c8da38ec6",
        "colab": {
          "base_uri": "https://localhost:8080/",
          "height": 204
        }
      },
      "source": [
        "x_train[199, :, 0]"
      ],
      "execution_count": 39,
      "outputs": [
        {
          "output_type": "execute_result",
          "data": {
            "text/plain": [
              "array([-0.79634585, -0.77446341, -0.68693366, -0.52281539, -0.30399102,\n",
              "       -0.24928492, -0.43528564, -0.30399102, -0.32587345, -0.2930498 ,\n",
              "       -0.10704908, -0.15081396, -0.16175517, -0.34775589, -0.77446341,\n",
              "       -0.80728707, -0.8291695 , -0.81822829, -0.77446341, -0.81822829,\n",
              "        0.        ,  0.        ,  0.        ,  0.        ,  0.        ,\n",
              "       -0.85105194, -0.87293438, -0.79634585, -0.78540463, -0.77446341,\n",
              "       -0.76352219, -0.90575803, -0.80728707, -0.92764047, -0.92764047,\n",
              "       -0.92764047, -0.8838756 , -0.85105194, -0.77446341, -0.85105194,\n",
              "       -0.90575803, -0.84011072, -0.84011072, -0.66505123, -0.78540463,\n",
              "        0.        ,  0.        ,  0.        ,  0.        ,  0.        ,\n",
              "        0.        ,  0.        ,  0.        ,  0.        ,  0.        ])"
            ]
          },
          "metadata": {
            "tags": []
          },
          "execution_count": 39
        }
      ]
    },
    {
      "cell_type": "code",
      "metadata": {
        "id": "j5qsi0OkbrXl",
        "colab_type": "code",
        "colab": {}
      },
      "source": [
        "X = x_train\n",
        "y = y_train"
      ],
      "execution_count": 0,
      "outputs": []
    },
    {
      "cell_type": "code",
      "metadata": {
        "id": "zMHY2d8oJ0NT",
        "colab_type": "code",
        "colab": {}
      },
      "source": [
        "from sklearn.linear_model import LinearRegression"
      ],
      "execution_count": 0,
      "outputs": []
    },
    {
      "cell_type": "code",
      "metadata": {
        "id": "dFbClgfyKS8P",
        "colab_type": "code",
        "colab": {}
      },
      "source": [
        "lin_reg = LinearRegression()"
      ],
      "execution_count": 0,
      "outputs": []
    },
    {
      "cell_type": "code",
      "metadata": {
        "id": "pTDSmdQgKXFe",
        "colab_type": "code",
        "colab": {
          "base_uri": "https://localhost:8080/",
          "height": 34
        },
        "outputId": "99868dec-e049-43f7-da46-d9a356487429"
      },
      "source": [
        "lin_reg.fit(X.reshape(X.shape[0], -1), y.reshape(y.shape[0], -1))"
      ],
      "execution_count": 43,
      "outputs": [
        {
          "output_type": "execute_result",
          "data": {
            "text/plain": [
              "LinearRegression(copy_X=True, fit_intercept=True, n_jobs=None, normalize=False)"
            ]
          },
          "metadata": {
            "tags": []
          },
          "execution_count": 43
        }
      ]
    },
    {
      "cell_type": "code",
      "metadata": {
        "id": "D_3r7JDNL4nV",
        "colab_type": "code",
        "colab": {}
      },
      "source": [
        "import matplotlib.pyplot as plt"
      ],
      "execution_count": 0,
      "outputs": []
    },
    {
      "cell_type": "code",
      "metadata": {
        "id": "Wl4FOcEOUE6b",
        "colab_type": "code",
        "colab": {}
      },
      "source": [
        "yhat = lin_reg.predict(x_test.reshape(x_test.shape[0], -1))"
      ],
      "execution_count": 0,
      "outputs": []
    },
    {
      "cell_type": "code",
      "metadata": {
        "id": "KNmCjvRwKcM-",
        "colab_type": "code",
        "colab": {
          "base_uri": "https://localhost:8080/",
          "height": 88
        },
        "outputId": "311593f6-a8c9-43ed-bde9-6a5c391b6463"
      },
      "source": [
        "lin_reg.score(X.reshape(X.shape[0], -1), y.reshape(y.shape[0], -1))"
      ],
      "execution_count": 47,
      "outputs": [
        {
          "output_type": "stream",
          "text": [
            "/usr/local/lib/python3.6/dist-packages/sklearn/base.py:420: FutureWarning: The default value of multioutput (not exposed in score method) will change from 'variance_weighted' to 'uniform_average' in 0.23 to keep consistent with 'metrics.r2_score'. To specify the default value manually and avoid the warning, please either call 'metrics.r2_score' directly or make a custom scorer with 'metrics.make_scorer' (the built-in scorer 'r2' uses multioutput='uniform_average').\n",
            "  \"multioutput='uniform_average').\", FutureWarning)\n"
          ],
          "name": "stderr"
        },
        {
          "output_type": "execute_result",
          "data": {
            "text/plain": [
              "0.8290055821694058"
            ]
          },
          "metadata": {
            "tags": []
          },
          "execution_count": 47
        }
      ]
    },
    {
      "cell_type": "code",
      "metadata": {
        "id": "mtYuXHXBKh8Y",
        "colab_type": "code",
        "colab": {
          "base_uri": "https://localhost:8080/",
          "height": 88
        },
        "outputId": "68e517fc-8155-44ef-e907-f1df4a0cde49"
      },
      "source": [
        "lin_reg.score(x_test.reshape(x_test.shape[0], -1), y_test.reshape(y_test.shape[0], -1))"
      ],
      "execution_count": 48,
      "outputs": [
        {
          "output_type": "stream",
          "text": [
            "/usr/local/lib/python3.6/dist-packages/sklearn/base.py:420: FutureWarning: The default value of multioutput (not exposed in score method) will change from 'variance_weighted' to 'uniform_average' in 0.23 to keep consistent with 'metrics.r2_score'. To specify the default value manually and avoid the warning, please either call 'metrics.r2_score' directly or make a custom scorer with 'metrics.make_scorer' (the built-in scorer 'r2' uses multioutput='uniform_average').\n",
            "  \"multioutput='uniform_average').\", FutureWarning)\n"
          ],
          "name": "stderr"
        },
        {
          "output_type": "execute_result",
          "data": {
            "text/plain": [
              "0.8517029488141551"
            ]
          },
          "metadata": {
            "tags": []
          },
          "execution_count": 48
        }
      ]
    },
    {
      "cell_type": "code",
      "metadata": {
        "id": "nu9vThWeKs64",
        "colab_type": "code",
        "colab": {
          "base_uri": "https://localhost:8080/",
          "height": 34
        },
        "outputId": "8af4769c-efce-40d2-bdd8-24b1cd560336"
      },
      "source": [
        "x_test.shape"
      ],
      "execution_count": 49,
      "outputs": [
        {
          "output_type": "execute_result",
          "data": {
            "text/plain": [
              "(6500, 55, 11)"
            ]
          },
          "metadata": {
            "tags": []
          },
          "execution_count": 49
        }
      ]
    },
    {
      "cell_type": "code",
      "metadata": {
        "id": "iAxy4m3UMYzM",
        "colab_type": "code",
        "colab": {}
      },
      "source": [
        "check = y_test.reshape(y_test.shape[0], -1) - yhat"
      ],
      "execution_count": 0,
      "outputs": []
    },
    {
      "cell_type": "code",
      "metadata": {
        "id": "_XP97hwFXbAo",
        "colab_type": "code",
        "colab": {
          "base_uri": "https://localhost:8080/",
          "height": 282
        },
        "outputId": "63026e25-3898-4d6f-b222-a5bcefe820d1"
      },
      "source": [
        "plt.plot(check[:, 0], range(0, len(check)), 'r-', alpha=1)\n",
        "plt.plot(check[:, 1], range(0, len(check)), 'g-', alpha=1)\n",
        "plt.plot(check[:, 2], range(0, len(check)), 'b-', alpha=1)\n",
        "plt.plot(check[:, 3], range(0, len(check)), 'p-', alpha=1)\n",
        "plt.plot(check[:, 4], range(0, len(check)), 'c-', alpha=1)"
      ],
      "execution_count": 101,
      "outputs": [
        {
          "output_type": "execute_result",
          "data": {
            "text/plain": [
              "[<matplotlib.lines.Line2D at 0x7f934bec8ba8>]"
            ]
          },
          "metadata": {
            "tags": []
          },
          "execution_count": 101
        },
        {
          "output_type": "display_data",
          "data": {
            "image/png": "[encoded data removed]",
            "text/plain": [
              "<Figure size 432x288 with 1 Axes>"
            ]
          },
          "metadata": {
            "tags": []
          }
        }
      ]
    },
    {
      "cell_type": "code",
      "metadata": {
        "id": "AQT0fSZuUT0_",
        "colab_type": "code",
        "colab": {
          "base_uri": "https://localhost:8080/",
          "height": 282
        },
        "outputId": "a67ea5b5-ba60-4c47-fecc-1747a7fb9242"
      },
      "source": [
        "plt.scatter(check[:, 0], range(0, len(check)), c='r', marker='o')\n",
        "plt.scatter(check[:, 1], range(0, len(check)), c='g', marker='o', alpha=0.1)\n",
        "plt.scatter(check[:, 2], range(0, len(check)), c='b', marker='o', alpha=0.1)\n",
        "plt.scatter(check[:, 3], range(0, len(check)), c='yellow', marker='o', alpha=0.1)\n",
        "plt.scatter(check[:, 4], range(0, len(check)), c='orange', marker='o', alpha=0.1)"
      ],
      "execution_count": 89,
      "outputs": [
        {
          "output_type": "execute_result",
          "data": {
            "text/plain": [
              "<matplotlib.collections.PathCollection at 0x7f934c4f6358>"
            ]
          },
          "metadata": {
            "tags": []
          },
          "execution_count": 89
        },
        {
          "output_type": "display_data",
          "data": {
            "image/png": "[encoded data removed]",
            "text/plain": [
              "<Figure size 432x288 with 1 Axes>"
            ]
          },
          "metadata": {
            "tags": []
          }
        }
      ]
    },
    {
      "cell_type": "code",
      "metadata": {
        "id": "THbxklfDUfp6",
        "colab_type": "code",
        "colab": {
          "base_uri": "https://localhost:8080/",
          "height": 265
        },
        "outputId": "f1bf2fd3-6881-4275-9ff0-89099998c02f"
      },
      "source": [
        "plt.plot(yhat[:500, 0], 'r-', alpha=1, label='predicted')\n",
        "plt.plot(y_test.reshape(y_test.shape[0], -1)[:500, 0], 'g-', alpha=1, label='actual')\n",
        "plt.legend()\n",
        "plt.show()"
      ],
      "execution_count": 111,
      "outputs": [
        {
          "output_type": "display_data",
          "data": {
            "image/png": "[encoded data removed]",
            "text/plain": [
              "<Figure size 432x288 with 1 Axes>"
            ]
          },
          "metadata": {
            "tags": []
          }
        }
      ]
    },
    {
      "cell_type": "code",
      "metadata": {
        "id": "o4YkBrI5Vw_D",
        "colab_type": "code",
        "colab": {}
      },
      "source": [
        ""
      ],
      "execution_count": 0,
      "outputs": []
    },
    {
      "cell_type": "code",
      "metadata": {
        "id": "UUylXOwgWrWO",
        "colab_type": "code",
        "colab": {}
      },
      "source": [
        ""
      ],
      "execution_count": 0,
      "outputs": []
    }
  ]
}