{
  "nbformat": 4,
  "nbformat_minor": 0,
  "metadata": {
    "colab": {
      "name": "time-series-lstm.ipynb",
      "provenance": [],
      "collapsed_sections": []
    },
    "kernelspec": {
      "name": "python3",
      "display_name": "Python 3"
    },
    "accelerator": "GPU"
  },
  "cells": [
    {
      "cell_type": "code",
      "metadata": {
        "id": "jwnb_lt0dCGx",
        "colab_type": "code",
        "colab": {}
      },
      "source": [
        "dataUrl = \"https://raw.githubusercontent.com/rani700/SSIM/master/SSIM/data/simplified_PM25.csv\""
      ],
      "execution_count": 0,
      "outputs": []
    },
    {
      "cell_type": "code",
      "metadata": {
        "id": "YJWzAYzudVaa",
        "colab_type": "code",
        "colab": {}
      },
      "source": [
        "import numpy as np\n",
        "import matplotlib.pyplot as plt\n",
        "import pandas as pd\n",
        "from sklearn.preprocessing import StandardScaler"
      ],
      "execution_count": 0,
      "outputs": []
    },
    {
      "cell_type": "code",
      "metadata": {
        "id": "lX-4V5OfdgVW",
        "colab_type": "code",
        "colab": {}
      },
      "source": [
        "df = pd.read_csv(dataUrl)"
      ],
      "execution_count": 0,
      "outputs": []
    },
    {
      "cell_type": "code",
      "metadata": {
        "id": "8ubqWqEAEnST",
        "colab_type": "code",
        "outputId": "ceef2fef-ed21-41cb-d800-b135b8ab34ec",
        "colab": {
          "base_uri": "https://localhost:8080/",
          "height": 34
        }
      },
      "source": [
        "scaler = StandardScaler()\n",
        "scaler.fit(df[['pm2.5', 'DEWP', 'TEMP', 'PRES', 'Iws', 'Is', 'Ir']])"
      ],
      "execution_count": 0,
      "outputs": [
        {
          "output_type": "execute_result",
          "data": {
            "text/plain": [
              "StandardScaler(copy=True, with_mean=True, with_std=True)"
            ]
          },
          "metadata": {
            "tags": []
          },
          "execution_count": 4
        }
      ]
    },
    {
      "cell_type": "code",
      "metadata": {
        "id": "jihMK4BjE55v",
        "colab_type": "code",
        "colab": {}
      },
      "source": [
        "df[['pm2.5', 'DEWP', 'TEMP', 'PRES', 'Iws', 'Is', 'Ir']] = scaler.transform(df[['pm2.5', 'DEWP', 'TEMP', 'PRES', 'Iws', 'Is', 'Ir']])"
      ],
      "execution_count": 0,
      "outputs": []
    },
    {
      "cell_type": "code",
      "metadata": {
        "id": "0MgdvfiHdjqu",
        "colab_type": "code",
        "outputId": "a97e15e7-aa74-4f03-99c7-da3260e55f02",
        "colab": {
          "base_uri": "https://localhost:8080/",
          "height": 204
        }
      },
      "source": [
        "df.head()"
      ],
      "execution_count": 0,
      "outputs": [
        {
          "output_type": "execute_result",
          "data": {
            "text/html": [
              "<div>\n",
              "<style scoped>\n",
              "    .dataframe tbody tr th:only-of-type {\n",
              "        vertical-align: middle;\n",
              "    }\n",
              "\n",
              "    .dataframe tbody tr th {\n",
              "        vertical-align: top;\n",
              "    }\n",
              "\n",
              "    .dataframe thead th {\n",
              "        text-align: right;\n",
              "    }\n",
              "</style>\n",
              "<table border=\"1\" class=\"dataframe\">\n",
              "  <thead>\n",
              "    <tr style=\"text-align: right;\">\n",
              "      <th></th>\n",
              "      <th>date</th>\n",
              "      <th>pm2.5</th>\n",
              "      <th>DEWP</th>\n",
              "      <th>TEMP</th>\n",
              "      <th>PRES</th>\n",
              "      <th>Iws</th>\n",
              "      <th>Is</th>\n",
              "      <th>Ir</th>\n",
              "      <th>winddirect_0</th>\n",
              "      <th>winddirect_1</th>\n",
              "      <th>winddirect_2</th>\n",
              "      <th>winddirect_3</th>\n",
              "    </tr>\n",
              "  </thead>\n",
              "  <tbody>\n",
              "    <tr>\n",
              "      <th>0</th>\n",
              "      <td>2/01/2010 0:00</td>\n",
              "      <td>0.341541</td>\n",
              "      <td>-1.235589</td>\n",
              "      <td>-1.349849</td>\n",
              "      <td>0.345886</td>\n",
              "      <td>-0.441890</td>\n",
              "      <td>-0.069372</td>\n",
              "      <td>-0.137706</td>\n",
              "      <td>0</td>\n",
              "      <td>0</td>\n",
              "      <td>1</td>\n",
              "      <td>0</td>\n",
              "    </tr>\n",
              "    <tr>\n",
              "      <th>1</th>\n",
              "      <td>2/01/2010 1:00</td>\n",
              "      <td>0.549424</td>\n",
              "      <td>-1.166285</td>\n",
              "      <td>-1.349849</td>\n",
              "      <td>0.345886</td>\n",
              "      <td>-0.424098</td>\n",
              "      <td>-0.069372</td>\n",
              "      <td>-0.137706</td>\n",
              "      <td>0</td>\n",
              "      <td>0</td>\n",
              "      <td>1</td>\n",
              "      <td>0</td>\n",
              "    </tr>\n",
              "    <tr>\n",
              "      <th>2</th>\n",
              "      <td>2/01/2010 2:00</td>\n",
              "      <td>0.669777</td>\n",
              "      <td>-0.889069</td>\n",
              "      <td>-1.431862</td>\n",
              "      <td>0.443244</td>\n",
              "      <td>-0.406306</td>\n",
              "      <td>-0.069372</td>\n",
              "      <td>-0.137706</td>\n",
              "      <td>0</td>\n",
              "      <td>0</td>\n",
              "      <td>1</td>\n",
              "      <td>0</td>\n",
              "    </tr>\n",
              "    <tr>\n",
              "      <th>3</th>\n",
              "      <td>2/01/2010 3:00</td>\n",
              "      <td>0.910484</td>\n",
              "      <td>-0.611852</td>\n",
              "      <td>-1.431862</td>\n",
              "      <td>0.540603</td>\n",
              "      <td>-0.370522</td>\n",
              "      <td>1.245425</td>\n",
              "      <td>-0.137706</td>\n",
              "      <td>0</td>\n",
              "      <td>0</td>\n",
              "      <td>1</td>\n",
              "      <td>0</td>\n",
              "    </tr>\n",
              "    <tr>\n",
              "      <th>4</th>\n",
              "      <td>2/01/2010 4:00</td>\n",
              "      <td>0.440012</td>\n",
              "      <td>-0.611852</td>\n",
              "      <td>-1.431862</td>\n",
              "      <td>0.540603</td>\n",
              "      <td>-0.352730</td>\n",
              "      <td>2.560223</td>\n",
              "      <td>-0.137706</td>\n",
              "      <td>0</td>\n",
              "      <td>0</td>\n",
              "      <td>1</td>\n",
              "      <td>0</td>\n",
              "    </tr>\n",
              "  </tbody>\n",
              "</table>\n",
              "</div>"
            ],
            "text/plain": [
              "             date     pm2.5      DEWP  ...  winddirect_1  winddirect_2  winddirect_3\n",
              "0  2/01/2010 0:00  0.341541 -1.235589  ...             0             1             0\n",
              "1  2/01/2010 1:00  0.549424 -1.166285  ...             0             1             0\n",
              "2  2/01/2010 2:00  0.669777 -0.889069  ...             0             1             0\n",
              "3  2/01/2010 3:00  0.910484 -0.611852  ...             0             1             0\n",
              "4  2/01/2010 4:00  0.440012 -0.611852  ...             0             1             0\n",
              "\n",
              "[5 rows x 12 columns]"
            ]
          },
          "metadata": {
            "tags": []
          },
          "execution_count": 6
        }
      ]
    },
    {
      "cell_type": "code",
      "metadata": {
        "id": "LGsJ83UTdkjW",
        "colab_type": "code",
        "outputId": "c03c6af7-6b95-469f-ee3f-48c37d853382",
        "colab": {
          "base_uri": "https://localhost:8080/",
          "height": 68
        }
      },
      "source": [
        "df.keys()"
      ],
      "execution_count": 0,
      "outputs": [
        {
          "output_type": "execute_result",
          "data": {
            "text/plain": [
              "Index(['date', 'pm2.5', 'DEWP', 'TEMP', 'PRES', 'Iws', 'Is', 'Ir',\n",
              "       'winddirect_0', 'winddirect_1', 'winddirect_2', 'winddirect_3'],\n",
              "      dtype='object')"
            ]
          },
          "metadata": {
            "tags": []
          },
          "execution_count": 7
        }
      ]
    },
    {
      "cell_type": "code",
      "metadata": {
        "id": "dtcfVXgxdqa1",
        "colab_type": "code",
        "colab": {}
      },
      "source": [
        "pm25 = df.iloc[:, 1].values"
      ],
      "execution_count": 0,
      "outputs": []
    },
    {
      "cell_type": "code",
      "metadata": {
        "id": "f8AqFSe85NUW",
        "colab_type": "code",
        "outputId": "d9d5cd70-2789-4da0-99b8-9c0e3b388f40",
        "colab": {
          "base_uri": "https://localhost:8080/",
          "height": 34
        }
      },
      "source": [
        "df.iloc[:].values.shape"
      ],
      "execution_count": 0,
      "outputs": [
        {
          "output_type": "execute_result",
          "data": {
            "text/plain": [
              "(43800, 12)"
            ]
          },
          "metadata": {
            "tags": []
          },
          "execution_count": 9
        }
      ]
    },
    {
      "cell_type": "code",
      "metadata": {
        "id": "oYp1Hrws5dmy",
        "colab_type": "code",
        "colab": {}
      },
      "source": [
        "df.set_index('date', inplace=True)"
      ],
      "execution_count": 0,
      "outputs": []
    },
    {
      "cell_type": "code",
      "metadata": {
        "id": "mvx098845esJ",
        "colab_type": "code",
        "outputId": "63ee7f2d-735d-43f4-e674-cfb77872062c",
        "colab": {
          "base_uri": "https://localhost:8080/",
          "height": 34
        }
      },
      "source": [
        "df.iloc[:].values.shape"
      ],
      "execution_count": 0,
      "outputs": [
        {
          "output_type": "execute_result",
          "data": {
            "text/plain": [
              "(43800, 11)"
            ]
          },
          "metadata": {
            "tags": []
          },
          "execution_count": 11
        }
      ]
    },
    {
      "cell_type": "code",
      "metadata": {
        "id": "pC26UPw-5hZ3",
        "colab_type": "code",
        "colab": {}
      },
      "source": [
        "myData = df.iloc[:].values"
      ],
      "execution_count": 0,
      "outputs": []
    },
    {
      "cell_type": "code",
      "metadata": {
        "id": "pPulzBuddzfh",
        "colab_type": "code",
        "colab": {}
      },
      "source": [
        "N = 25\n",
        "O = 5\n",
        "P = 25"
      ],
      "execution_count": 0,
      "outputs": []
    },
    {
      "cell_type": "code",
      "metadata": {
        "id": "iZf-cNqzfxhM",
        "colab_type": "code",
        "colab": {}
      },
      "source": [
        "X = []\n",
        "y = []\n",
        "for i in range(len(myData) - (N + O + P)):\n",
        "  temp = []\n",
        "  # temp.append(pm25[i : i+N] + [0 for _ in range(O)] + pm25[i+N+O : i+N+O+P])\n",
        "  temp1 = myData[i : i+N]\n",
        "  temp2 = [[0 for __ in range(11)] for _ in range(O)]\n",
        "  temp3 = myData[i+N+O : i+N+O+P]\n",
        "  X.append(np.append(np.append(temp1, temp2), temp3))\n",
        "  y.append(pm25[i+N : i+N+O])\n"
      ],
      "execution_count": 0,
      "outputs": []
    },
    {
      "cell_type": "code",
      "metadata": {
        "id": "L4fqYzTeibni",
        "colab_type": "code",
        "colab": {}
      },
      "source": [
        "X = np.array(X)\n",
        "y = np.array(y)"
      ],
      "execution_count": 0,
      "outputs": []
    },
    {
      "cell_type": "code",
      "metadata": {
        "id": "XzbgAD7w9TBA",
        "colab_type": "code",
        "colab": {}
      },
      "source": [
        "X = X.reshape(X.shape[0], 11, N+O+P)"
      ],
      "execution_count": 0,
      "outputs": []
    },
    {
      "cell_type": "code",
      "metadata": {
        "id": "isaNV9sspuw4",
        "colab_type": "code",
        "outputId": "d37c4d69-de57-49c3-de6a-05264869d505",
        "colab": {
          "base_uri": "https://localhost:8080/",
          "height": 51
        }
      },
      "source": [
        "print(X.shape)\n",
        "print(y.shape)"
      ],
      "execution_count": 0,
      "outputs": [
        {
          "output_type": "stream",
          "text": [
            "(43745, 11, 55)\n",
            "(43745, 5)\n"
          ],
          "name": "stdout"
        }
      ]
    },
    {
      "cell_type": "code",
      "metadata": {
        "id": "ePnko72Q6c_n",
        "colab_type": "code",
        "colab": {}
      },
      "source": [
        "# X[0]"
      ],
      "execution_count": 0,
      "outputs": []
    },
    {
      "cell_type": "code",
      "metadata": {
        "id": "ENjSuNyZqJl_",
        "colab_type": "code",
        "colab": {}
      },
      "source": [
        "from sklearn.model_selection import train_test_split"
      ],
      "execution_count": 0,
      "outputs": []
    },
    {
      "cell_type": "code",
      "metadata": {
        "id": "84wgM6iUqmHF",
        "colab_type": "code",
        "colab": {}
      },
      "source": [
        "X_train, X_test, y_train, y_test = train_test_split(X, y)"
      ],
      "execution_count": 0,
      "outputs": []
    },
    {
      "cell_type": "code",
      "metadata": {
        "id": "T3ep7VdrkpjM",
        "colab_type": "code",
        "colab": {}
      },
      "source": [
        "from sklearn.metrics import mean_squared_error"
      ],
      "execution_count": 0,
      "outputs": []
    },
    {
      "cell_type": "code",
      "metadata": {
        "id": "-ADMyNDhlk5l",
        "colab_type": "code",
        "outputId": "2490a4de-5c99-42c2-b646-75a67f73b240",
        "colab": {
          "base_uri": "https://localhost:8080/",
          "height": 80
        }
      },
      "source": [
        "import tensorflow as tf\n",
        "from keras.models import Sequential\n",
        "from keras.layers import Dense, Flatten\n",
        "from keras.layers.convolutional import Conv1D, Conv2D, MaxPooling1D, MaxPooling2D"
      ],
      "execution_count": 0,
      "outputs": [
        {
          "output_type": "display_data",
          "data": {
            "text/html": [
              "<p style=\"color: red;\">\n",
              "The default version of TensorFlow in Colab will soon switch to TensorFlow 2.x.<br>\n",
              "We recommend you <a href=\"https://www.tensorflow.org/guide/migrate\" target=\"_blank\">upgrade</a> now \n",
              "or ensure your notebook will continue to use TensorFlow 1.x via the <code>%tensorflow_version 1.x</code> magic:\n",
              "<a href=\"https://colab.research.google.com/notebooks/tensorflow_version.ipynb\" target=\"_blank\">more info</a>.</p>\n"
            ],
            "text/plain": [
              "<IPython.core.display.HTML object>"
            ]
          },
          "metadata": {
            "tags": []
          }
        },
        {
          "output_type": "stream",
          "text": [
            "Using TensorFlow backend.\n"
          ],
          "name": "stderr"
        }
      ]
    },
    {
      "cell_type": "code",
      "metadata": {
        "id": "EAZ4AjrQz2FB",
        "colab_type": "code",
        "colab": {}
      },
      "source": [
        "from keras.layers import LSTM, Bidirectional"
      ],
      "execution_count": 0,
      "outputs": []
    },
    {
      "cell_type": "code",
      "metadata": {
        "id": "aruhMLmwHndx",
        "colab_type": "code",
        "outputId": "7d6446c4-491b-46dc-804d-8d1ba10b9773",
        "colab": {
          "base_uri": "https://localhost:8080/",
          "height": 190
        }
      },
      "source": [
        "!pip install keras-self-attention"
      ],
      "execution_count": 0,
      "outputs": [
        {
          "output_type": "stream",
          "text": [
            "Requirement already satisfied: keras-self-attention in /usr/local/lib/python3.6/dist-packages (0.42.0)\n",
            "Requirement already satisfied: Keras in /usr/local/lib/python3.6/dist-packages (from keras-self-attention) (2.2.5)\n",
            "Requirement already satisfied: numpy in /usr/local/lib/python3.6/dist-packages (from keras-self-attention) (1.17.4)\n",
            "Requirement already satisfied: keras-applications>=1.0.8 in /usr/local/lib/python3.6/dist-packages (from Keras->keras-self-attention) (1.0.8)\n",
            "Requirement already satisfied: keras-preprocessing>=1.1.0 in /usr/local/lib/python3.6/dist-packages (from Keras->keras-self-attention) (1.1.0)\n",
            "Requirement already satisfied: pyyaml in /usr/local/lib/python3.6/dist-packages (from Keras->keras-self-attention) (3.13)\n",
            "Requirement already satisfied: six>=1.9.0 in /usr/local/lib/python3.6/dist-packages (from Keras->keras-self-attention) (1.12.0)\n",
            "Requirement already satisfied: h5py in /usr/local/lib/python3.6/dist-packages (from Keras->keras-self-attention) (2.8.0)\n",
            "Requirement already satisfied: scipy>=0.14 in /usr/local/lib/python3.6/dist-packages (from Keras->keras-self-attention) (1.3.3)\n"
          ],
          "name": "stdout"
        }
      ]
    },
    {
      "cell_type": "code",
      "metadata": {
        "id": "RWNOZPNYHy1g",
        "colab_type": "code",
        "colab": {}
      },
      "source": [
        "from keras_self_attention import SeqSelfAttention"
      ],
      "execution_count": 0,
      "outputs": []
    },
    {
      "cell_type": "code",
      "metadata": {
        "id": "7hrmJXRmL7VQ",
        "colab_type": "code",
        "colab": {}
      },
      "source": [
        "from keras.layers import Dropout"
      ],
      "execution_count": 0,
      "outputs": []
    },
    {
      "cell_type": "code",
      "metadata": {
        "id": "PGHSC9X7z4md",
        "colab_type": "code",
        "colab": {}
      },
      "source": [
        "# from keras import losses"
      ],
      "execution_count": 0,
      "outputs": []
    },
    {
      "cell_type": "code",
      "metadata": {
        "id": "OyO4keuTzUrk",
        "colab_type": "code",
        "colab": {}
      },
      "source": [
        "# X_test1 = X_test.reshape(X_test.shape[0], X_test.shape[1], 1)"
      ],
      "execution_count": 0,
      "outputs": []
    },
    {
      "cell_type": "code",
      "metadata": {
        "id": "WbZQb_RT_yiG",
        "colab_type": "code",
        "outputId": "b0e26c47-5efe-4d34-fd6e-faeb88964094",
        "colab": {
          "base_uri": "https://localhost:8080/",
          "height": 34
        }
      },
      "source": [
        "X_test.shape"
      ],
      "execution_count": 0,
      "outputs": [
        {
          "output_type": "execute_result",
          "data": {
            "text/plain": [
              "(10937, 11, 55)"
            ]
          },
          "metadata": {
            "tags": []
          },
          "execution_count": 36
        }
      ]
    },
    {
      "cell_type": "code",
      "metadata": {
        "id": "MSlR3iqUAoJR",
        "colab_type": "code",
        "colab": {}
      },
      "source": [
        "X_test1 = X_test.reshape(X_test.shape[0], X_test.shape[1], X_test.shape[2], 1)"
      ],
      "execution_count": 0,
      "outputs": []
    },
    {
      "cell_type": "code",
      "metadata": {
        "id": "gE0NYxSVmPrG",
        "colab_type": "code",
        "colab": {}
      },
      "source": [
        "model = Sequential()\n",
        "model.add(Bidirectional(LSTM(128, return_sequences=True), input_shape=(X.shape[1], X.shape[2])))\n",
        "model.add(SeqSelfAttention(attention_activation='sigmoid'))\n",
        "model.add(LSTM(64))\n",
        "model.add(Dense(O))\n",
        "model.compile(optimizer='adam', loss='mse', metrics=['accuracy'])"
      ],
      "execution_count": 0,
      "outputs": []
    },
    {
      "cell_type": "code",
      "metadata": {
        "id": "Fh7zuL5vmZ5T",
        "colab_type": "code",
        "outputId": "cab165fa-770e-40e1-fc23-4a5622c9c86f",
        "colab": {
          "base_uri": "https://localhost:8080/",
          "height": 714
        }
      },
      "source": [
        "model.fit(X_test, y_test, epochs=20, verbose=1)"
      ],
      "execution_count": 62,
      "outputs": [
        {
          "output_type": "stream",
          "text": [
            "Epoch 1/20\n",
            "10937/10937 [==============================] - 22s 2ms/step - loss: 0.3487 - acc: 0.2788\n",
            "Epoch 2/20\n",
            "10937/10937 [==============================] - 19s 2ms/step - loss: 0.2318 - acc: 0.3294\n",
            "Epoch 3/20\n",
            "10937/10937 [==============================] - 19s 2ms/step - loss: 0.1608 - acc: 0.3591\n",
            "Epoch 4/20\n",
            "10937/10937 [==============================] - 19s 2ms/step - loss: 0.1246 - acc: 0.4045\n",
            "Epoch 5/20\n",
            "10937/10937 [==============================] - 19s 2ms/step - loss: 0.1081 - acc: 0.4263\n",
            "Epoch 6/20\n",
            "10937/10937 [==============================] - 19s 2ms/step - loss: 0.0987 - acc: 0.4399\n",
            "Epoch 7/20\n",
            "10937/10937 [==============================] - 19s 2ms/step - loss: 0.0922 - acc: 0.4486\n",
            "Epoch 8/20\n",
            "10937/10937 [==============================] - 19s 2ms/step - loss: 0.0885 - acc: 0.4483\n",
            "Epoch 9/20\n",
            "10937/10937 [==============================] - 19s 2ms/step - loss: 0.0852 - acc: 0.4554\n",
            "Epoch 10/20\n",
            "10937/10937 [==============================] - 19s 2ms/step - loss: 0.0804 - acc: 0.4564\n",
            "Epoch 11/20\n",
            "10937/10937 [==============================] - 18s 2ms/step - loss: 0.0796 - acc: 0.4601\n",
            "Epoch 12/20\n",
            "10937/10937 [==============================] - 18s 2ms/step - loss: 0.0776 - acc: 0.4644\n",
            "Epoch 13/20\n",
            "10937/10937 [==============================] - 19s 2ms/step - loss: 0.0754 - acc: 0.4685\n",
            "Epoch 14/20\n",
            "10937/10937 [==============================] - 19s 2ms/step - loss: 0.0717 - acc: 0.4600\n",
            "Epoch 15/20\n",
            "10937/10937 [==============================] - 18s 2ms/step - loss: 0.0689 - acc: 0.4704\n",
            "Epoch 16/20\n",
            "10937/10937 [==============================] - 19s 2ms/step - loss: 0.0666 - acc: 0.4640\n",
            "Epoch 17/20\n",
            "10937/10937 [==============================] - 19s 2ms/step - loss: 0.0636 - acc: 0.4724\n",
            "Epoch 18/20\n",
            "10937/10937 [==============================] - 19s 2ms/step - loss: 0.0611 - acc: 0.4711\n",
            "Epoch 19/20\n",
            "10937/10937 [==============================] - 19s 2ms/step - loss: 0.0597 - acc: 0.4755\n",
            "Epoch 20/20\n",
            "10937/10937 [==============================] - 19s 2ms/step - loss: 0.0584 - acc: 0.4726\n"
          ],
          "name": "stdout"
        },
        {
          "output_type": "execute_result",
          "data": {
            "text/plain": [
              "<keras.callbacks.History at 0x7f1080521358>"
            ]
          },
          "metadata": {
            "tags": []
          },
          "execution_count": 62
        }
      ]
    },
    {
      "cell_type": "code",
      "metadata": {
        "id": "mqn_hWKjmiBG",
        "colab_type": "code",
        "colab": {}
      },
      "source": [
        "ytest_hat = model.predict(X_test)"
      ],
      "execution_count": 0,
      "outputs": []
    },
    {
      "cell_type": "code",
      "metadata": {
        "id": "iY3hHnTZ0KyS",
        "colab_type": "code",
        "outputId": "0326f492-fe9d-4956-e85d-7b96b001f11a",
        "colab": {
          "base_uri": "https://localhost:8080/",
          "height": 265
        }
      },
      "source": [
        "plt.plot(ytest_hat[:100, 0])\n",
        "plt.plot(y_test[:100, 0])\n",
        "plt.show()"
      ],
      "execution_count": 64,
      "outputs": [
        {
          "output_type": "display_data",
          "data": {
            "image/png": "[encoded data removed]",
            "text/plain": [
              "<Figure size 432x288 with 1 Axes>"
            ]
          },
          "metadata": {
            "tags": []
          }
        }
      ]
    },
    {
      "cell_type": "code",
      "metadata": {
        "id": "GIseYmVF0oTy",
        "colab_type": "code",
        "outputId": "67331f3e-f042-4dbf-efa6-d0f431a740c6",
        "colab": {
          "base_uri": "https://localhost:8080/",
          "height": 34
        }
      },
      "source": [
        "mean_squared_error(y_test,ytest_hat)"
      ],
      "execution_count": 66,
      "outputs": [
        {
          "output_type": "execute_result",
          "data": {
            "text/plain": [
              "0.051527660137683486"
            ]
          },
          "metadata": {
            "tags": []
          },
          "execution_count": 66
        }
      ]
    },
    {
      "cell_type": "code",
      "metadata": {
        "id": "8ezzU_Y50NTG",
        "colab_type": "code",
        "colab": {}
      },
      "source": [
        "loss_history = model.history.history['loss']"
      ],
      "execution_count": 0,
      "outputs": []
    },
    {
      "cell_type": "code",
      "metadata": {
        "id": "WazGICfi0Y8M",
        "colab_type": "code",
        "colab": {
          "base_uri": "https://localhost:8080/",
          "height": 357
        },
        "outputId": "146bf6de-9f51-48ed-a3bc-35561176584d"
      },
      "source": [
        "loss_history"
      ],
      "execution_count": 68,
      "outputs": [
        {
          "output_type": "execute_result",
          "data": {
            "text/plain": [
              "[0.3486918417531328,\n",
              " 0.2318285841110246,\n",
              " 0.16082167598723143,\n",
              " 0.12455249517880836,\n",
              " 0.10809286145151582,\n",
              " 0.09872281939933011,\n",
              " 0.09215856450119805,\n",
              " 0.08847101582075437,\n",
              " 0.08516195930708825,\n",
              " 0.08043712722657857,\n",
              " 0.0795533624484071,\n",
              " 0.07755249652943778,\n",
              " 0.07540549370630945,\n",
              " 0.07168366620432058,\n",
              " 0.06893583484143195,\n",
              " 0.06656709398614147,\n",
              " 0.06356505672505713,\n",
              " 0.06112521183867335,\n",
              " 0.05971826678142803,\n",
              " 0.05838599540630424]"
            ]
          },
          "metadata": {
            "tags": []
          },
          "execution_count": 68
        }
      ]
    },
    {
      "cell_type": "code",
      "metadata": {
        "id": "cHepDpBB0gtL",
        "colab_type": "code",
        "colab": {
          "base_uri": "https://localhost:8080/",
          "height": 282
        },
        "outputId": "7e944b48-3a09-468d-dd6a-bfb7c005afea"
      },
      "source": [
        "plt.figure(figsize=(8,4))\n",
        "plt.xticks(np.arange(0,25,1))\n",
        "plt.plot(range(len(loss_history)),loss_history)"
      ],
      "execution_count": 69,
      "outputs": [
        {
          "output_type": "execute_result",
          "data": {
            "text/plain": [
              "[<matplotlib.lines.Line2D at 0x7f107f961390>]"
            ]
          },
          "metadata": {
            "tags": []
          },
          "execution_count": 69
        },
        {
          "output_type": "display_data",
          "data": {
            "image/png": "[encoded data removed]",
            "text/plain": [
              "<Figure size 576x288 with 1 Axes>"
            ]
          },
          "metadata": {
            "tags": []
          }
        }
      ]
    },
    {
      "cell_type": "code",
      "metadata": {
        "id": "kpUU1d8ShxrW",
        "colab_type": "code",
        "colab": {}
      },
      "source": [
        ""
      ],
      "execution_count": 0,
      "outputs": []
    }
  ]
}