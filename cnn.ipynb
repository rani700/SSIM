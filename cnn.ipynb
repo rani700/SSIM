{
  "nbformat": 4,
  "nbformat_minor": 0,
  "metadata": {
    "colab": {
      "name": "cnn",
      "provenance": [],
      "collapsed_sections": []
    },
    "kernelspec": {
      "name": "python3",
      "display_name": "Python 3"
    },
    "accelerator": "GPU"
  },
  "cells": [
    {
      "cell_type": "code",
      "metadata": {
        "id": "esFQHHUNKbqb",
        "colab_type": "code",
        "colab": {}
      },
      "source": [
        "import numpy as np\n",
        "import pandas as pd\n",
        "from sklearn.preprocessing import StandardScaler\n",
        "from sklearn.model_selection import train_test_split\n",
        "import random, math, os, time"
      ],
      "execution_count": 0,
      "outputs": []
    },
    {
      "cell_type": "code",
      "metadata": {
        "id": "zdRJ672gKgOc",
        "colab_type": "code",
        "colab": {}
      },
      "source": [
        "SEED = 1234\n",
        "random.seed(SEED)"
      ],
      "execution_count": 0,
      "outputs": []
    },
    {
      "cell_type": "code",
      "metadata": {
        "id": "cT4xzZAYXv5y",
        "colab_type": "code",
        "colab": {}
      },
      "source": [
        "import matplotlib.pyplot as plt\n"
      ],
      "execution_count": 0,
      "outputs": []
    },
    {
      "cell_type": "code",
      "metadata": {
        "id": "nf-OIx9CKhjC",
        "colab_type": "code",
        "colab": {}
      },
      "source": [
        "filepath = 'https://raw.githubusercontent.com/rani700/SSIM/master/SSIM/data/simplified_PM25.csv'\n",
        "df = pd.read_csv(filepath, dayfirst=True)"
      ],
      "execution_count": 0,
      "outputs": []
    },
    {
      "cell_type": "code",
      "metadata": {
        "id": "OJqQV7NVLS3w",
        "colab_type": "code",
        "colab": {}
      },
      "source": [
        "train_sampling_params = {\n",
        "    'dim_in': 11,\n",
        "    'output_length': 5,\n",
        "    'min_before': 20,\n",
        "    'max_before': 25,\n",
        "    'min_after': 20,\n",
        "    'max_after': 25,\n",
        "}"
      ],
      "execution_count": 0,
      "outputs": []
    },
    {
      "cell_type": "code",
      "metadata": {
        "id": "_iEGE-UkMVsj",
        "colab_type": "code",
        "colab": {}
      },
      "source": [
        "test_sampling_params = {\n",
        "  'dim_in': 11,\n",
        "  'output_length': 5,\n",
        "  'min_before': 20,\n",
        "  'max_before': 25,\n",
        "  'min_after': 20,\n",
        "  'max_after': 25,\n",
        "}"
      ],
      "execution_count": 0,
      "outputs": []
    },
    {
      "cell_type": "code",
      "metadata": {
        "id": "gQb36AFFKj-q",
        "colab_type": "code",
        "outputId": "931afd24-8dc2-4dc0-d39f-5aa47d5b66f9",
        "colab": {
          "base_uri": "https://localhost:8080/",
          "height": 195
        }
      },
      "source": [
        "df.head()"
      ],
      "execution_count": 7,
      "outputs": [
        {
          "output_type": "execute_result",
          "data": {
            "text/html": [
              "<div>\n",
              "<style scoped>\n",
              "    .dataframe tbody tr th:only-of-type {\n",
              "        vertical-align: middle;\n",
              "    }\n",
              "\n",
              "    .dataframe tbody tr th {\n",
              "        vertical-align: top;\n",
              "    }\n",
              "\n",
              "    .dataframe thead th {\n",
              "        text-align: right;\n",
              "    }\n",
              "</style>\n",
              "<table border=\"1\" class=\"dataframe\">\n",
              "  <thead>\n",
              "    <tr style=\"text-align: right;\">\n",
              "      <th></th>\n",
              "      <th>date</th>\n",
              "      <th>pm2.5</th>\n",
              "      <th>DEWP</th>\n",
              "      <th>TEMP</th>\n",
              "      <th>PRES</th>\n",
              "      <th>Iws</th>\n",
              "      <th>Is</th>\n",
              "      <th>Ir</th>\n",
              "      <th>winddirect_0</th>\n",
              "      <th>winddirect_1</th>\n",
              "      <th>winddirect_2</th>\n",
              "      <th>winddirect_3</th>\n",
              "    </tr>\n",
              "  </thead>\n",
              "  <tbody>\n",
              "    <tr>\n",
              "      <th>0</th>\n",
              "      <td>2/01/2010 0:00</td>\n",
              "      <td>129</td>\n",
              "      <td>-16</td>\n",
              "      <td>-4.0</td>\n",
              "      <td>1020.0</td>\n",
              "      <td>1.79</td>\n",
              "      <td>0</td>\n",
              "      <td>0</td>\n",
              "      <td>0</td>\n",
              "      <td>0</td>\n",
              "      <td>1</td>\n",
              "      <td>0</td>\n",
              "    </tr>\n",
              "    <tr>\n",
              "      <th>1</th>\n",
              "      <td>2/01/2010 1:00</td>\n",
              "      <td>148</td>\n",
              "      <td>-15</td>\n",
              "      <td>-4.0</td>\n",
              "      <td>1020.0</td>\n",
              "      <td>2.68</td>\n",
              "      <td>0</td>\n",
              "      <td>0</td>\n",
              "      <td>0</td>\n",
              "      <td>0</td>\n",
              "      <td>1</td>\n",
              "      <td>0</td>\n",
              "    </tr>\n",
              "    <tr>\n",
              "      <th>2</th>\n",
              "      <td>2/01/2010 2:00</td>\n",
              "      <td>159</td>\n",
              "      <td>-11</td>\n",
              "      <td>-5.0</td>\n",
              "      <td>1021.0</td>\n",
              "      <td>3.57</td>\n",
              "      <td>0</td>\n",
              "      <td>0</td>\n",
              "      <td>0</td>\n",
              "      <td>0</td>\n",
              "      <td>1</td>\n",
              "      <td>0</td>\n",
              "    </tr>\n",
              "    <tr>\n",
              "      <th>3</th>\n",
              "      <td>2/01/2010 3:00</td>\n",
              "      <td>181</td>\n",
              "      <td>-7</td>\n",
              "      <td>-5.0</td>\n",
              "      <td>1022.0</td>\n",
              "      <td>5.36</td>\n",
              "      <td>1</td>\n",
              "      <td>0</td>\n",
              "      <td>0</td>\n",
              "      <td>0</td>\n",
              "      <td>1</td>\n",
              "      <td>0</td>\n",
              "    </tr>\n",
              "    <tr>\n",
              "      <th>4</th>\n",
              "      <td>2/01/2010 4:00</td>\n",
              "      <td>138</td>\n",
              "      <td>-7</td>\n",
              "      <td>-5.0</td>\n",
              "      <td>1022.0</td>\n",
              "      <td>6.25</td>\n",
              "      <td>2</td>\n",
              "      <td>0</td>\n",
              "      <td>0</td>\n",
              "      <td>0</td>\n",
              "      <td>1</td>\n",
              "      <td>0</td>\n",
              "    </tr>\n",
              "  </tbody>\n",
              "</table>\n",
              "</div>"
            ],
            "text/plain": [
              "             date  pm2.5  DEWP  ...  winddirect_1  winddirect_2  winddirect_3\n",
              "0  2/01/2010 0:00    129   -16  ...             0             1             0\n",
              "1  2/01/2010 1:00    148   -15  ...             0             1             0\n",
              "2  2/01/2010 2:00    159   -11  ...             0             1             0\n",
              "3  2/01/2010 3:00    181    -7  ...             0             1             0\n",
              "4  2/01/2010 4:00    138    -7  ...             0             1             0\n",
              "\n",
              "[5 rows x 12 columns]"
            ]
          },
          "metadata": {
            "tags": []
          },
          "execution_count": 7
        }
      ]
    },
    {
      "cell_type": "code",
      "metadata": {
        "id": "GCRV1BXYKnI6",
        "colab_type": "code",
        "colab": {}
      },
      "source": [
        "len(df[:5000])\n",
        "df = df[:5000]"
      ],
      "execution_count": 0,
      "outputs": []
    },
    {
      "cell_type": "code",
      "metadata": {
        "id": "FEZoD24g3OJo",
        "colab_type": "code",
        "outputId": "0bbc2b3c-25e5-49b5-911d-cf919463a0b0",
        "colab": {
          "base_uri": "https://localhost:8080/",
          "height": 34
        }
      },
      "source": [
        "df.iloc[0, 1]"
      ],
      "execution_count": 9,
      "outputs": [
        {
          "output_type": "execute_result",
          "data": {
            "text/plain": [
              "129"
            ]
          },
          "metadata": {
            "tags": []
          },
          "execution_count": 9
        }
      ]
    },
    {
      "cell_type": "code",
      "metadata": {
        "id": "Xa-Wu-jrKo2a",
        "colab_type": "code",
        "outputId": "49c7ca9b-4a01-4a7e-fa5d-8df6ca2e4c6f",
        "colab": {
          "base_uri": "https://localhost:8080/",
          "height": 87
        }
      },
      "source": [
        "print(df.iloc[0, 0])\n",
        "print(df.iloc[4000, 0])\n",
        "print(df.iloc[4001, 0])\n",
        "print(df.iloc[4999, 0])\n",
        "\n",
        "\n",
        "df.set_index('date', inplace=True)"
      ],
      "execution_count": 10,
      "outputs": [
        {
          "output_type": "stream",
          "text": [
            "2/01/2010 0:00\n",
            "17/06/2010 16:00\n",
            "17/06/2010 17:00\n",
            "29/07/2010 7:00\n"
          ],
          "name": "stdout"
        }
      ]
    },
    {
      "cell_type": "code",
      "metadata": {
        "id": "0iDB97mVKqA6",
        "colab_type": "code",
        "outputId": "d2be866e-9d03-4dc0-b261-e788ec377300",
        "colab": {
          "base_uri": "https://localhost:8080/",
          "height": 225
        }
      },
      "source": [
        "df.head()"
      ],
      "execution_count": 11,
      "outputs": [
        {
          "output_type": "execute_result",
          "data": {
            "text/html": [
              "<div>\n",
              "<style scoped>\n",
              "    .dataframe tbody tr th:only-of-type {\n",
              "        vertical-align: middle;\n",
              "    }\n",
              "\n",
              "    .dataframe tbody tr th {\n",
              "        vertical-align: top;\n",
              "    }\n",
              "\n",
              "    .dataframe thead th {\n",
              "        text-align: right;\n",
              "    }\n",
              "</style>\n",
              "<table border=\"1\" class=\"dataframe\">\n",
              "  <thead>\n",
              "    <tr style=\"text-align: right;\">\n",
              "      <th></th>\n",
              "      <th>pm2.5</th>\n",
              "      <th>DEWP</th>\n",
              "      <th>TEMP</th>\n",
              "      <th>PRES</th>\n",
              "      <th>Iws</th>\n",
              "      <th>Is</th>\n",
              "      <th>Ir</th>\n",
              "      <th>winddirect_0</th>\n",
              "      <th>winddirect_1</th>\n",
              "      <th>winddirect_2</th>\n",
              "      <th>winddirect_3</th>\n",
              "    </tr>\n",
              "    <tr>\n",
              "      <th>date</th>\n",
              "      <th></th>\n",
              "      <th></th>\n",
              "      <th></th>\n",
              "      <th></th>\n",
              "      <th></th>\n",
              "      <th></th>\n",
              "      <th></th>\n",
              "      <th></th>\n",
              "      <th></th>\n",
              "      <th></th>\n",
              "      <th></th>\n",
              "    </tr>\n",
              "  </thead>\n",
              "  <tbody>\n",
              "    <tr>\n",
              "      <th>2/01/2010 0:00</th>\n",
              "      <td>129</td>\n",
              "      <td>-16</td>\n",
              "      <td>-4.0</td>\n",
              "      <td>1020.0</td>\n",
              "      <td>1.79</td>\n",
              "      <td>0</td>\n",
              "      <td>0</td>\n",
              "      <td>0</td>\n",
              "      <td>0</td>\n",
              "      <td>1</td>\n",
              "      <td>0</td>\n",
              "    </tr>\n",
              "    <tr>\n",
              "      <th>2/01/2010 1:00</th>\n",
              "      <td>148</td>\n",
              "      <td>-15</td>\n",
              "      <td>-4.0</td>\n",
              "      <td>1020.0</td>\n",
              "      <td>2.68</td>\n",
              "      <td>0</td>\n",
              "      <td>0</td>\n",
              "      <td>0</td>\n",
              "      <td>0</td>\n",
              "      <td>1</td>\n",
              "      <td>0</td>\n",
              "    </tr>\n",
              "    <tr>\n",
              "      <th>2/01/2010 2:00</th>\n",
              "      <td>159</td>\n",
              "      <td>-11</td>\n",
              "      <td>-5.0</td>\n",
              "      <td>1021.0</td>\n",
              "      <td>3.57</td>\n",
              "      <td>0</td>\n",
              "      <td>0</td>\n",
              "      <td>0</td>\n",
              "      <td>0</td>\n",
              "      <td>1</td>\n",
              "      <td>0</td>\n",
              "    </tr>\n",
              "    <tr>\n",
              "      <th>2/01/2010 3:00</th>\n",
              "      <td>181</td>\n",
              "      <td>-7</td>\n",
              "      <td>-5.0</td>\n",
              "      <td>1022.0</td>\n",
              "      <td>5.36</td>\n",
              "      <td>1</td>\n",
              "      <td>0</td>\n",
              "      <td>0</td>\n",
              "      <td>0</td>\n",
              "      <td>1</td>\n",
              "      <td>0</td>\n",
              "    </tr>\n",
              "    <tr>\n",
              "      <th>2/01/2010 4:00</th>\n",
              "      <td>138</td>\n",
              "      <td>-7</td>\n",
              "      <td>-5.0</td>\n",
              "      <td>1022.0</td>\n",
              "      <td>6.25</td>\n",
              "      <td>2</td>\n",
              "      <td>0</td>\n",
              "      <td>0</td>\n",
              "      <td>0</td>\n",
              "      <td>1</td>\n",
              "      <td>0</td>\n",
              "    </tr>\n",
              "  </tbody>\n",
              "</table>\n",
              "</div>"
            ],
            "text/plain": [
              "                pm2.5  DEWP  TEMP  ...  winddirect_1  winddirect_2  winddirect_3\n",
              "date                               ...                                          \n",
              "2/01/2010 0:00    129   -16  -4.0  ...             0             1             0\n",
              "2/01/2010 1:00    148   -15  -4.0  ...             0             1             0\n",
              "2/01/2010 2:00    159   -11  -5.0  ...             0             1             0\n",
              "2/01/2010 3:00    181    -7  -5.0  ...             0             1             0\n",
              "2/01/2010 4:00    138    -7  -5.0  ...             0             1             0\n",
              "\n",
              "[5 rows x 11 columns]"
            ]
          },
          "metadata": {
            "tags": []
          },
          "execution_count": 11
        }
      ]
    },
    {
      "cell_type": "code",
      "metadata": {
        "id": "IqtM_6wwKrih",
        "colab_type": "code",
        "colab": {}
      },
      "source": [
        "pm25 = df['pm2.5'].values.copy().reshape(-1, 1)"
      ],
      "execution_count": 0,
      "outputs": []
    },
    {
      "cell_type": "code",
      "metadata": {
        "id": "nw8nedAGKtV4",
        "colab_type": "code",
        "outputId": "9fc199e4-0000-46d5-ff2e-43bda251c8c5",
        "colab": {
          "base_uri": "https://localhost:8080/",
          "height": 34
        }
      },
      "source": [
        "scaler_x = StandardScaler()\n",
        "scaler_x.fit(df[['pm2.5', 'DEWP', 'TEMP', 'PRES', 'Iws', 'Is', 'Ir']])"
      ],
      "execution_count": 13,
      "outputs": [
        {
          "output_type": "execute_result",
          "data": {
            "text/plain": [
              "StandardScaler(copy=True, with_mean=True, with_std=True)"
            ]
          },
          "metadata": {
            "tags": []
          },
          "execution_count": 13
        }
      ]
    },
    {
      "cell_type": "code",
      "metadata": {
        "id": "Sg3EabLGKvNQ",
        "colab_type": "code",
        "colab": {}
      },
      "source": [
        "df[['pm2.5', 'DEWP', 'TEMP', 'PRES', 'Iws', 'Is', 'Ir']] = scaler_x.transform(df[['pm2.5', 'DEWP', 'TEMP', 'PRES', 'Iws', 'Is', 'Ir']])"
      ],
      "execution_count": 0,
      "outputs": []
    },
    {
      "cell_type": "code",
      "metadata": {
        "id": "wsCFEBY6KxUX",
        "colab_type": "code",
        "colab": {}
      },
      "source": [
        "scaler_y = StandardScaler()\n",
        "scaler_y.fit(pm25)\n",
        "y_all = scaler_y.transform(pm25)"
      ],
      "execution_count": 0,
      "outputs": []
    },
    {
      "cell_type": "code",
      "metadata": {
        "id": "aiHuv1SMK0EP",
        "colab_type": "code",
        "colab": {}
      },
      "source": [
        "df_train = df.loc['2/01/2010 0:00': '17/06/2010 16:00'].copy()\n",
        "df_test = df.loc['17/06/2010 17:00': '29/07/2010 7:00'].copy()"
      ],
      "execution_count": 0,
      "outputs": []
    },
    {
      "cell_type": "code",
      "metadata": {
        "id": "g-Aje_VNK2op",
        "colab_type": "code",
        "colab": {}
      },
      "source": [
        "y = y_all"
      ],
      "execution_count": 0,
      "outputs": []
    },
    {
      "cell_type": "code",
      "metadata": {
        "id": "SE2nqexWK4Q3",
        "colab_type": "code",
        "colab": {}
      },
      "source": [
        "def train_val_test_generate(dataframe, model_params):\n",
        "    '''\n",
        "    :param dataframe: processed dataframe\n",
        "    :param model_params: for input dim\n",
        "    :return: train_x, train_y, test_x, test_y with the same length (by padding zero)\n",
        "    '''\n",
        "\n",
        "    train_val_test_x, train_val_test_y, len_x_samples, len_before_x_samples = pad_all_cases(dataframe,\n",
        "                                                                                            dataframe['pm2.5'].values,\n",
        "                                                                                            model_params,\n",
        "                                                                                            model_params['min_before'],\n",
        "                                                                                            model_params['max_before'],\n",
        "                                                                                            model_params['min_after'],\n",
        "                                                                                            model_params['max_after'],\n",
        "                                                                                            model_params[\n",
        "                                                                                                'output_length'])\n",
        "\n",
        "    train_val_test_y = np.expand_dims(train_val_test_y, axis=2)\n",
        "\n",
        "    return train_val_test_x, train_val_test_y, len_x_samples, len_before_x_samples"
      ],
      "execution_count": 0,
      "outputs": []
    },
    {
      "cell_type": "code",
      "metadata": {
        "id": "nMrsAqS2K6V_",
        "colab_type": "code",
        "colab": {}
      },
      "source": [
        "\n",
        "def generate_samples(x, y, model_params, seq_len_before=7, seq_len_after=7, output_seq_len=9):\n",
        "    \"\"\"\n",
        "    Generate samples, input past and future, target middle\n",
        "    :param x: input dataframe\n",
        "    :param y: target variable to impute\n",
        "    :param seq_len_before:\n",
        "    :param seq_len_after:\n",
        "    :param output_seq_len:\n",
        "    :return: (inputsequence, targetsequence)\n",
        "    \"\"\"\n",
        "    total_samples = x.shape[0]\n",
        "    total_len = seq_len_before + seq_len_after + output_seq_len\n",
        "\n",
        "    input_batch_idxs = [list(range(i, i + seq_len_before)) + list(\n",
        "        range(i + seq_len_before + output_seq_len, i + seq_len_before + output_seq_len + seq_len_after)) for i in\n",
        "                        range((total_samples - total_len + 1))]\n",
        "\n",
        "    input_seq = np.take(x, input_batch_idxs, axis=0)\n",
        "\n",
        "    z = np.zeros((output_seq_len, model_params['dim_in']))\n",
        "\n",
        "    input_seq = np.array([np.concatenate((i[:seq_len_before], z, i[seq_len_before:])) for i in input_seq])\n",
        "\n",
        "    output_batch_idxs = [list(range(i + seq_len_before, i + seq_len_before + output_seq_len)) for i in\n",
        "                         range((total_samples - total_len + 1))]\n",
        "\n",
        "    output_seq = np.take(y, output_batch_idxs, axis=0)\n",
        "\n",
        "    return input_seq, output_seq\n",
        "\n",
        "\n",
        "def pad_all_cases(x, y, model_params, min_len_before=7, max_len_before=9, min_len_after=7, max_len_after=9,\n",
        "                  targetlength=9):\n",
        "    \"\"\"\n",
        "    variable length inputs, fix length outputs\n",
        "    :param x: input dataframe\n",
        "    :param y: target variable to impute\n",
        "    :param min_len_before:\n",
        "    :param max_len_before:\n",
        "    :param min_len_after:\n",
        "    :param max_len_after:\n",
        "    :param targetlength:\n",
        "    :return: inputsequence with same length, outputsequence with same length\n",
        "    \"\"\"\n",
        "    total_x = []\n",
        "    total_y = []\n",
        "    total_len_x = []\n",
        "    totle_len_before_x = []\n",
        "\n",
        "    for l_before in range(min_len_before, max_len_before + 1):\n",
        "        for l_after in range(min_len_after, max_len_after + 1):\n",
        "            case_x, case_y = generate_samples(x.values, y, model_params, l_before, l_after, targetlength)\n",
        "            # npad is a tuple of (n_before, n_after) for each dimension\n",
        "\n",
        "            len_x = np.full(case_x.shape[0], case_x.shape[1])\n",
        "            len_before_sequence_x = np.full(case_x.shape[0], l_before)\n",
        "\n",
        "            npad = ((0, 0), (0, max_len_before - l_before + max_len_after - l_after), (0, 0))\n",
        "\n",
        "            same_length_x = np.pad(case_x, pad_width=npad, mode='constant', constant_values=0)\n",
        "\n",
        "            total_x.append(same_length_x)\n",
        "            total_y.append(case_y)\n",
        "            total_len_x.append(len_x)\n",
        "            totle_len_before_x.append(len_before_sequence_x)\n",
        "\n",
        "    ## total x,y\n",
        "    concatenated_x = np.concatenate(total_x, axis=0)\n",
        "    concatenated_y = np.concatenate(total_y, axis=0)\n",
        "    len_all_case = np.concatenate(total_len_x).ravel()\n",
        "    len_before_all_case = np.concatenate(totle_len_before_x).ravel()\n",
        "\n",
        "    return concatenated_x, concatenated_y, len_all_case, len_before_all_case"
      ],
      "execution_count": 0,
      "outputs": []
    },
    {
      "cell_type": "code",
      "metadata": {
        "id": "zRUwUr7TK8Pm",
        "colab_type": "code",
        "colab": {}
      },
      "source": [
        "# x_samples, y_samples, x_len, x_before_len = train_val_test_generate(df_train, train_sampling_params)\n",
        "# def train_val_test_generate(dataframe, model_params):\n",
        "\n",
        "dataframe = df_train\n",
        "dataframe1 = df_test\n",
        "model_params = train_sampling_params\n",
        "\n"
      ],
      "execution_count": 0,
      "outputs": []
    },
    {
      "cell_type": "code",
      "metadata": {
        "id": "AG-U3p3HMAY4",
        "colab_type": "code",
        "colab": {}
      },
      "source": [
        "x = dataframe\n",
        "x1 = dataframe1\n",
        "y = dataframe['pm2.5'].values\n",
        "y1 = dataframe1['pm2.5'].values\n",
        "# model_params = model_params\n",
        "min_len_before = model_params['min_before']\n",
        "max_len_before = model_params['max_before']\n",
        "min_len_after = model_params['min_after'] \n",
        "max_len_after = model_params['max_after']\n",
        "targetlength = model_params['output_length']"
      ],
      "execution_count": 0,
      "outputs": []
    },
    {
      "cell_type": "code",
      "metadata": {
        "id": "3o6hAfNUMEHG",
        "colab_type": "code",
        "colab": {}
      },
      "source": [
        "total_x = []\n",
        "total_y = []\n",
        "total_len_x = []\n",
        "total_len_before_x = []"
      ],
      "execution_count": 0,
      "outputs": []
    },
    {
      "cell_type": "code",
      "metadata": {
        "id": "xOl--2TIMHE6",
        "colab_type": "code",
        "colab": {}
      },
      "source": [
        "def generate_samples(x, y, model_params, seq_len_before=7, seq_len_after=7, output_seq_len=9):\n",
        "    \"\"\"\n",
        "    Generate samples, input past and future, target middle\n",
        "    :param x: input dataframe\n",
        "    :param y: target variable to impute\n",
        "    :param seq_len_before:\n",
        "    :param seq_len_after:\n",
        "    :param output_seq_len:\n",
        "    :return: (inputsequence, targetsequence)\n",
        "    \"\"\"\n",
        "    total_samples = x.shape[0]\n",
        "    total_len = seq_len_before + seq_len_after + output_seq_len\n",
        "\n",
        "    input_batch_idxs = [list(range(i, i + seq_len_before)) + list(\n",
        "        range(i + seq_len_before + output_seq_len, i + seq_len_before + output_seq_len + seq_len_after)) for i in\n",
        "                        range((total_samples - total_len + 1))]\n",
        "\n",
        "    input_seq = np.take(x, input_batch_idxs, axis=0)\n",
        "\n",
        "    z = np.zeros((output_seq_len, model_params['dim_in']))\n",
        "\n",
        "    input_seq = np.array([np.concatenate((i[:seq_len_before], z, i[seq_len_before:])) for i in input_seq])\n",
        "\n",
        "    output_batch_idxs = [list(range(i + seq_len_before, i + seq_len_before + output_seq_len)) for i in\n",
        "                         range((total_samples - total_len + 1))]\n",
        "\n",
        "    output_seq = np.take(y, output_batch_idxs, axis=0)\n",
        "\n",
        "    return input_seq, output_seq"
      ],
      "execution_count": 0,
      "outputs": []
    },
    {
      "cell_type": "code",
      "metadata": {
        "id": "PsUmTa7VLs4a",
        "colab_type": "code",
        "colab": {}
      },
      "source": [
        ""
      ],
      "execution_count": 0,
      "outputs": []
    },
    {
      "cell_type": "code",
      "metadata": {
        "id": "4vkM1dp0Levx",
        "colab_type": "code",
        "colab": {}
      },
      "source": [
        "def train_test_split_SSIM(x, y, x_len, x_before_len, model_params, SEED):\n",
        "    '''\n",
        "    :param x: all x samples\n",
        "    :param y: all y samples\n",
        "    :param model_params: parameters\n",
        "    :param SEED: random SEED\n",
        "    :return: train set, test set\n",
        "    '''\n",
        "\n",
        "    ## check and remove samples with NaN (just incase)\n",
        "    index_list = []\n",
        "    for index, (x_s, y_s, len_s, len_before_s) in enumerate(zip(x, y, x_len, x_before_len)):\n",
        "        if (np.isnan(x_s).any()) or (np.isnan(y_s).any()):\n",
        "            index_list.append(index)\n",
        "\n",
        "    x = np.delete(x, index_list, axis=0)\n",
        "    y = np.delete(y, index_list, axis=0)\n",
        "    x_len = np.delete(x_len, index_list, axis=0)\n",
        "    x_before_len = np.delete(x_before_len, index_list, axis=0)\n",
        "\n",
        "    x_train, x_test, y_train, y_test = train_test_split(x, y, test_size=None,\n",
        "                                                        random_state=SEED,\n",
        "                                                        shuffle=False)\n",
        "\n",
        "    x_train_len, x_test_len = train_test_split(x_len, test_size=None, random_state=SEED, shuffle=False)\n",
        "\n",
        "    x_train_before_len, x_test_before_len = train_test_split(x_before_len, test_size=None, random_state=SEED,\n",
        "                                                             shuffle=False)\n",
        "\n",
        "    return x_train, y_train, x_train_len, x_train_before_len"
      ],
      "execution_count": 0,
      "outputs": []
    },
    {
      "cell_type": "code",
      "metadata": {
        "id": "7YDds1CoK-XW",
        "colab_type": "code",
        "colab": {}
      },
      "source": [
        ""
      ],
      "execution_count": 0,
      "outputs": []
    },
    {
      "cell_type": "code",
      "metadata": {
        "id": "IxUwqdpgMLez",
        "colab_type": "code",
        "colab": {}
      },
      "source": [
        "for l_before in range(min_len_before, max_len_before+1):\n",
        "  for l_after in range(min_len_after, max_len_after+1):\n",
        "    case_x, case_y = generate_samples(x.values, y, model_params, l_before, l_after, targetlength)\n",
        "    \n",
        "    len_x = np.full(case_x.shape[0], case_x.shape[1])\n",
        "    len_before_sequence_x = np.full(case_x.shape[0], l_before)\n",
        "\n",
        "    npad = ((0, 0), (0, max_len_before - l_before + max_len_after - l_after), (0, 0))\n",
        "\n",
        "    same_length_x = np.pad(case_x, pad_width=npad, mode='constant', constant_values=0)\n",
        "\n",
        "    total_x.append(same_length_x)\n",
        "\n",
        "    total_y.append(case_y)\n",
        "\n",
        "    total_len_x.append(len_x)\n",
        "\n",
        "    total_len_before_x.append(len_before_sequence_x)\n",
        "\n",
        "concatenated_x = np.concatenate(total_x, axis=0)\n",
        "concatenated_y = np.concatenate(total_y, axis=0)\n",
        "len_all_case = np.concatenate(total_len_x).ravel()\n",
        "len_before_all_case = np.concatenate(total_len_before_x).ravel()\n",
        "\n",
        "\n",
        "\n",
        "\n",
        "\n",
        "\n",
        "\n",
        "# ###############\n",
        "\n",
        "train_val_test_x = concatenated_x\n",
        "train_val_test_y = concatenated_y\n",
        "len_x_samples = len_all_case\n",
        "len_before_x_samples = len_before_all_case\n",
        "\n",
        "\n",
        "\n",
        "    "
      ],
      "execution_count": 0,
      "outputs": []
    },
    {
      "cell_type": "code",
      "metadata": {
        "id": "118a-68IwQSY",
        "colab_type": "code",
        "colab": {}
      },
      "source": [
        "x_samples, y_samples, x_len, x_before_len = train_val_test_x, train_val_test_y, len_x_samples, len_before_x_samples\n",
        "\n",
        "x_test, y_test, x_test_len, x_test_before_len = train_test_split_SSIM(x_samples, y_samples, x_len, x_before_len,\n",
        "                                                                          test_sampling_params, SEED)"
      ],
      "execution_count": 0,
      "outputs": []
    },
    {
      "cell_type": "code",
      "metadata": {
        "id": "iyHn9zNWMwFQ",
        "colab_type": "code",
        "outputId": "735532ba-456b-4eaf-a910-b97e19fdd31d",
        "colab": {
          "base_uri": "https://localhost:8080/",
          "height": 52
        }
      },
      "source": [
        "print('X_samples:{}'.format(x_samples.shape))\n",
        "print('y_samples:{}'.format(y_samples.shape))"
      ],
      "execution_count": 27,
      "outputs": [
        {
          "output_type": "stream",
          "text": [
            "X_samples:(142272, 55, 11)\n",
            "y_samples:(142272, 5)\n"
          ],
          "name": "stdout"
        }
      ]
    },
    {
      "cell_type": "code",
      "metadata": {
        "id": "z1IKka41LXX0",
        "colab_type": "code",
        "colab": {}
      },
      "source": [
        "X = x_samples\n",
        "y = y_samples"
      ],
      "execution_count": 0,
      "outputs": []
    },
    {
      "cell_type": "code",
      "metadata": {
        "id": "Nkiw9giDlEcN",
        "colab_type": "code",
        "outputId": "26401c67-7fc6-4a45-c4b4-72bdd034d7de",
        "colab": {
          "base_uri": "https://localhost:8080/",
          "height": 34
        }
      },
      "source": [
        "X.shape"
      ],
      "execution_count": 29,
      "outputs": [
        {
          "output_type": "execute_result",
          "data": {
            "text/plain": [
              "(142272, 55, 11)"
            ]
          },
          "metadata": {
            "tags": []
          },
          "execution_count": 29
        }
      ]
    },
    {
      "cell_type": "code",
      "metadata": {
        "id": "aot0ZvLInG4P",
        "colab_type": "code",
        "colab": {}
      },
      "source": [
        "X = X.reshape((X.shape[0], X.shape[1], X.shape[2], 1))"
      ],
      "execution_count": 0,
      "outputs": []
    },
    {
      "cell_type": "code",
      "metadata": {
        "id": "dxykLW_inSVG",
        "colab_type": "code",
        "colab": {}
      },
      "source": [
        ""
      ],
      "execution_count": 0,
      "outputs": []
    },
    {
      "cell_type": "code",
      "metadata": {
        "id": "BonfMV6DlJZX",
        "colab_type": "code",
        "outputId": "a6f1e69c-fe23-4ba2-b24e-cb984dc73e49",
        "colab": {
          "base_uri": "https://localhost:8080/",
          "height": 34
        }
      },
      "source": [
        "X[0].shape"
      ],
      "execution_count": 31,
      "outputs": [
        {
          "output_type": "execute_result",
          "data": {
            "text/plain": [
              "(55, 11, 1)"
            ]
          },
          "metadata": {
            "tags": []
          },
          "execution_count": 31
        }
      ]
    },
    {
      "cell_type": "code",
      "metadata": {
        "id": "yy0E6CKkN63v",
        "colab_type": "code",
        "outputId": "3ad7e83b-7485-40a3-a82c-10fcf61b1149",
        "colab": {
          "base_uri": "https://localhost:8080/",
          "height": 34
        }
      },
      "source": [
        "y.shape"
      ],
      "execution_count": 32,
      "outputs": [
        {
          "output_type": "execute_result",
          "data": {
            "text/plain": [
              "(142272, 5)"
            ]
          },
          "metadata": {
            "tags": []
          },
          "execution_count": 32
        }
      ]
    },
    {
      "cell_type": "code",
      "metadata": {
        "id": "mA8dbaipN_ss",
        "colab_type": "code",
        "colab": {}
      },
      "source": [
        "# X[0]"
      ],
      "execution_count": 0,
      "outputs": []
    },
    {
      "cell_type": "code",
      "metadata": {
        "id": "KLEV5I8ONLn_",
        "colab_type": "code",
        "colab": {}
      },
      "source": [
        ""
      ],
      "execution_count": 0,
      "outputs": []
    },
    {
      "cell_type": "code",
      "metadata": {
        "id": "PrIP3xmBM_ob",
        "colab_type": "code",
        "colab": {}
      },
      "source": [
        "from keras.models import Sequential\n",
        "from keras.layers import Dense, Flatten\n",
        "from keras.layers.convolutional import Conv2D"
      ],
      "execution_count": 0,
      "outputs": []
    },
    {
      "cell_type": "code",
      "metadata": {
        "id": "80SDJqv1NKn9",
        "colab_type": "code",
        "colab": {}
      },
      "source": [
        "model = Sequential()\n",
        "model.add(Conv2D(filters=64, kernel_size=3, activation='relu', input_shape=(55,11,1)))\n",
        "model.add(Conv2D(filters=32, kernel_size=3, activation='relu'))\n",
        "model.add(Flatten())\n",
        "model.add(Dense(50, activation='relu'))\n",
        "model.add(Dense(5))\n",
        "model.compile(optimizer='adam', loss='mse', metrics=['accuracy'])"
      ],
      "execution_count": 0,
      "outputs": []
    },
    {
      "cell_type": "code",
      "metadata": {
        "id": "eepaWdR5xvn4",
        "colab_type": "code",
        "colab": {}
      },
      "source": [
        "import tensorflow as tf"
      ],
      "execution_count": 0,
      "outputs": []
    },
    {
      "cell_type": "code",
      "metadata": {
        "id": "QWOb03AsNbI9",
        "colab_type": "code",
        "outputId": "9b7d7b6b-f653-4308-80b1-3171e8e6c4f3",
        "colab": {
          "base_uri": "https://localhost:8080/",
          "height": 1000
        }
      },
      "source": [
        "model.fit(X, y, epochs=20, verbose=1)"
      ],
      "execution_count": 42,
      "outputs": [
        {
          "output_type": "stream",
          "text": [
            "WARNING:tensorflow:From /usr/local/lib/python3.6/dist-packages/keras/backend/tensorflow_backend.py:1033: The name tf.assign_add is deprecated. Please use tf.compat.v1.assign_add instead.\n",
            "\n",
            "WARNING:tensorflow:From /usr/local/lib/python3.6/dist-packages/keras/backend/tensorflow_backend.py:1020: The name tf.assign is deprecated. Please use tf.compat.v1.assign instead.\n",
            "\n",
            "WARNING:tensorflow:From /usr/local/lib/python3.6/dist-packages/keras/backend/tensorflow_backend.py:3005: The name tf.Session is deprecated. Please use tf.compat.v1.Session instead.\n",
            "\n",
            "Epoch 1/20\n",
            "WARNING:tensorflow:From /usr/local/lib/python3.6/dist-packages/keras/backend/tensorflow_backend.py:190: The name tf.get_default_session is deprecated. Please use tf.compat.v1.get_default_session instead.\n",
            "\n",
            "WARNING:tensorflow:From /usr/local/lib/python3.6/dist-packages/keras/backend/tensorflow_backend.py:197: The name tf.ConfigProto is deprecated. Please use tf.compat.v1.ConfigProto instead.\n",
            "\n",
            "WARNING:tensorflow:From /usr/local/lib/python3.6/dist-packages/keras/backend/tensorflow_backend.py:207: The name tf.global_variables is deprecated. Please use tf.compat.v1.global_variables instead.\n",
            "\n",
            "WARNING:tensorflow:From /usr/local/lib/python3.6/dist-packages/keras/backend/tensorflow_backend.py:216: The name tf.is_variable_initialized is deprecated. Please use tf.compat.v1.is_variable_initialized instead.\n",
            "\n",
            "WARNING:tensorflow:From /usr/local/lib/python3.6/dist-packages/keras/backend/tensorflow_backend.py:223: The name tf.variables_initializer is deprecated. Please use tf.compat.v1.variables_initializer instead.\n",
            "\n",
            "142272/142272 [==============================] - 57s 397us/step - loss: 0.1697 - acc: 0.3759\n",
            "Epoch 2/20\n",
            "142272/142272 [==============================] - 43s 304us/step - loss: 0.0789 - acc: 0.4366\n",
            "Epoch 3/20\n",
            "142272/142272 [==============================] - 43s 304us/step - loss: 0.0582 - acc: 0.4633\n",
            "Epoch 4/20\n",
            "142272/142272 [==============================] - 43s 304us/step - loss: 0.0469 - acc: 0.4752\n",
            "Epoch 5/20\n",
            "142272/142272 [==============================] - 43s 305us/step - loss: 0.0407 - acc: 0.4813\n",
            "Epoch 6/20\n",
            "142272/142272 [==============================] - 43s 305us/step - loss: 0.0361 - acc: 0.4877\n",
            "Epoch 7/20\n",
            "142272/142272 [==============================] - 44s 306us/step - loss: 0.0335 - acc: 0.4936\n",
            "Epoch 8/20\n",
            "142272/142272 [==============================] - 43s 302us/step - loss: 0.0307 - acc: 0.4964\n",
            "Epoch 9/20\n",
            "142272/142272 [==============================] - 43s 302us/step - loss: 0.0291 - acc: 0.4997\n",
            "Epoch 10/20\n",
            "142272/142272 [==============================] - 43s 301us/step - loss: 0.0276 - acc: 0.5030\n",
            "Epoch 11/20\n",
            "142272/142272 [==============================] - 43s 304us/step - loss: 0.0261 - acc: 0.5056\n",
            "Epoch 12/20\n",
            "142272/142272 [==============================] - 44s 308us/step - loss: 0.0250 - acc: 0.5107\n",
            "Epoch 13/20\n",
            "142272/142272 [==============================] - 44s 310us/step - loss: 0.0241 - acc: 0.5133\n",
            "Epoch 14/20\n",
            "142272/142272 [==============================] - 44s 309us/step - loss: 0.0230 - acc: 0.5159\n",
            "Epoch 15/20\n",
            "142272/142272 [==============================] - 44s 308us/step - loss: 0.0222 - acc: 0.5175\n",
            "Epoch 16/20\n",
            "142272/142272 [==============================] - 44s 307us/step - loss: 0.0215 - acc: 0.5201\n",
            "Epoch 17/20\n",
            "142272/142272 [==============================] - 44s 312us/step - loss: 0.0209 - acc: 0.5224\n",
            "Epoch 18/20\n",
            "142272/142272 [==============================] - 47s 333us/step - loss: 0.0202 - acc: 0.5240\n",
            "Epoch 19/20\n",
            "142272/142272 [==============================] - 45s 315us/step - loss: 0.0197 - acc: 0.5269\n",
            "Epoch 20/20\n",
            "142272/142272 [==============================] - 43s 306us/step - loss: 0.0192 - acc: 0.5290\n"
          ],
          "name": "stdout"
        },
        {
          "output_type": "execute_result",
          "data": {
            "text/plain": [
              "<keras.callbacks.History at 0x7f1e9785b7f0>"
            ]
          },
          "metadata": {
            "tags": []
          },
          "execution_count": 42
        }
      ]
    },
    {
      "cell_type": "code",
      "metadata": {
        "id": "_wsVpvbZO-Rj",
        "colab_type": "code",
        "colab": {}
      },
      "source": [
        "cnn_loss = model.history.history['loss']"
      ],
      "execution_count": 0,
      "outputs": []
    },
    {
      "cell_type": "code",
      "metadata": {
        "id": "L9aWg6ftDjFQ",
        "colab_type": "code",
        "outputId": "674c6412-eda4-4196-dcc6-154739e7aefb",
        "colab": {
          "base_uri": "https://localhost:8080/",
          "height": 369
        }
      },
      "source": [
        "cnn_loss"
      ],
      "execution_count": 47,
      "outputs": [
        {
          "output_type": "execute_result",
          "data": {
            "text/plain": [
              "[0.16970308655701172,\n",
              " 0.07891964794019697,\n",
              " 0.05821359477513246,\n",
              " 0.046883888396020146,\n",
              " 0.04067002253014522,\n",
              " 0.03610524244533598,\n",
              " 0.03345161377047191,\n",
              " 0.030701431469238535,\n",
              " 0.029081333726493696,\n",
              " 0.027646453867218566,\n",
              " 0.026099521769617075,\n",
              " 0.02498267877581343,\n",
              " 0.024087256459737957,\n",
              " 0.0230056963324944,\n",
              " 0.022219090175249766,\n",
              " 0.021470191418346198,\n",
              " 0.020869635376916697,\n",
              " 0.020248227040323183,\n",
              " 0.019710119269780724,\n",
              " 0.019168073194770933]"
            ]
          },
          "metadata": {
            "tags": []
          },
          "execution_count": 47
        }
      ]
    },
    {
      "cell_type": "code",
      "metadata": {
        "id": "HNDKjWifXeuD",
        "colab_type": "code",
        "outputId": "409c845c-090d-4dcc-87bf-b6e8433e8c39",
        "colab": {
          "base_uri": "https://localhost:8080/",
          "height": 265
        }
      },
      "source": [
        "plt.figure(figsize=(8,4))\n",
        "plt.xticks(np.arange(0,25,1))\n",
        "plt.plot(range(len(cnn_loss)),cnn_loss);"
      ],
      "execution_count": 48,
      "outputs": [
        {
          "output_type": "display_data",
          "data": {
            "image/png": "[encoded data removed]",
            "text/plain": [
              "<Figure size 576x288 with 1 Axes>"
            ]
          },
          "metadata": {
            "tags": []
          }
        }
      ]
    },
    {
      "cell_type": "code",
      "metadata": {
        "id": "JhIa-AuUXsId",
        "colab_type": "code",
        "colab": {}
      },
      "source": [
        " y_hat = model.predict(X)"
      ],
      "execution_count": 0,
      "outputs": []
    },
    {
      "cell_type": "code",
      "metadata": {
        "id": "qPuGdSOYcG2R",
        "colab_type": "code",
        "outputId": "a371aeff-c249-462e-b80d-53c69394ad85",
        "colab": {
          "base_uri": "https://localhost:8080/",
          "height": 34
        }
      },
      "source": [
        "y_hat[:, 0].shape"
      ],
      "execution_count": 50,
      "outputs": [
        {
          "output_type": "execute_result",
          "data": {
            "text/plain": [
              "(142272,)"
            ]
          },
          "metadata": {
            "tags": []
          },
          "execution_count": 50
        }
      ]
    },
    {
      "cell_type": "code",
      "metadata": {
        "id": "bL7KjI7HcKGz",
        "colab_type": "code",
        "outputId": "8c744b6b-245c-4875-d2bc-9741f97caef3",
        "colab": {
          "base_uri": "https://localhost:8080/",
          "height": 34
        }
      },
      "source": [
        "y[:, 0].shape"
      ],
      "execution_count": 51,
      "outputs": [
        {
          "output_type": "execute_result",
          "data": {
            "text/plain": [
              "(142272,)"
            ]
          },
          "metadata": {
            "tags": []
          },
          "execution_count": 51
        }
      ]
    },
    {
      "cell_type": "code",
      "metadata": {
        "id": "10QrDm9Rcq7c",
        "colab_type": "code",
        "outputId": "b6096693-9356-405a-d8dd-35510e269f6a",
        "colab": {
          "base_uri": "https://localhost:8080/",
          "height": 265
        }
      },
      "source": [
        "plt.plot(y[:500, 0], 'r-', label='actual')\n",
        "plt.plot(y_hat[:500, 0], 'b-', label='predicted')\n",
        "plt.legend()\n",
        "plt.show()"
      ],
      "execution_count": 54,
      "outputs": [
        {
          "output_type": "display_data",
          "data": {
            "image/png": "[encoded data removed]",
            "text/plain": [
              "<Figure size 432x288 with 1 Axes>"
            ]
          },
          "metadata": {
            "tags": []
          }
        }
      ]
    },
    {
      "cell_type": "code",
      "metadata": {
        "id": "4VxyXa6_dCSn",
        "colab_type": "code",
        "colab": {}
      },
      "source": [
        ""
      ],
      "execution_count": 0,
      "outputs": []
    },
    {
      "cell_type": "code",
      "metadata": {
        "id": "-8Vh3IrMdL_U",
        "colab_type": "code",
        "colab": {}
      },
      "source": [
        ""
      ],
      "execution_count": 0,
      "outputs": []
    }
  ]
}